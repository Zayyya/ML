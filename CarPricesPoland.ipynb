{
  "cells": [
    {
      "cell_type": "markdown",
      "metadata": {
        "id": "wzWjDoi11PlE"
      },
      "source": [
        "## Постановка задачи:\n",
        "\n",
        "Таблица содержит объявления о продаже автомобилей за 2021 год. Необходимо, по значениям признаков узнать тип машины.\n",
        "\n",
        "От нас требуется ознакомиться с выбранным dataset-ом, визуализировать эти данные, вычислить основные характеристики (среднее, разброс, корреляционную матрицу и т.д.), а также, осуществить \"препроцессинг\" данных и решить задачу классификации."
      ]
    },
    {
      "cell_type": "markdown",
      "metadata": {
        "id": "Pb6MSWNF1PlG"
      },
      "source": [
        "Установливаем библиотеку Pandas:"
      ]
    },
    {
      "cell_type": "code",
      "execution_count": 7,
      "metadata": {
        "colab": {
          "base_uri": "https://localhost:8080/"
        },
        "id": "5s7OXB4z1PlG",
        "outputId": "10c4ee81-2e7b-4d80-a0b2-1c7cc5218ebd"
      },
      "outputs": [
        {
          "name": "stdout",
          "output_type": "stream",
          "text": [
            "Defaulting to user installation because normal site-packages is not writeable\n",
            "Requirement already satisfied: pandas in c:\\users\\nick\\appdata\\roaming\\python\\python310\\site-packages (1.5.1)\n",
            "Requirement already satisfied: pytz>=2020.1 in c:\\users\\nick\\appdata\\roaming\\python\\python310\\site-packages (from pandas) (2022.5)\n",
            "Requirement already satisfied: numpy>=1.21.0 in c:\\users\\nick\\appdata\\roaming\\python\\python310\\site-packages (from pandas) (1.23.4)\n",
            "Requirement already satisfied: python-dateutil>=2.8.1 in c:\\users\\nick\\appdata\\roaming\\python\\python310\\site-packages (from pandas) (2.8.2)\n",
            "Requirement already satisfied: six>=1.5 in c:\\users\\nick\\appdata\\roaming\\python\\python310\\site-packages (from python-dateutil>=2.8.1->pandas) (1.16.0)\n"
          ]
        },
        {
          "name": "stderr",
          "output_type": "stream",
          "text": [
            "\n",
            "[notice] A new release of pip available: 22.2.1 -> 22.3\n",
            "[notice] To update, run: python.exe -m pip install --upgrade pip\n"
          ]
        }
      ],
      "source": [
        "! pip install pandas"
      ]
    },
    {
      "cell_type": "markdown",
      "metadata": {
        "id": "pDMnnYGO1PlH"
      },
      "source": [
        "Импортируем необходимые модули:"
      ]
    },
    {
      "cell_type": "code",
      "execution_count": 8,
      "metadata": {
        "id": "4XxM2BoK1PlH"
      },
      "outputs": [],
      "source": [
        "import numpy as np\n",
        "import matplotlib.pyplot as plt\n",
        "import pandas as pd\n",
        "%matplotlib inline"
      ]
    },
    {
      "cell_type": "markdown",
      "metadata": {
        "id": "DSf_bKlU1PlH"
      },
      "source": [
        "## Знакомимся с dataset-ом"
      ]
    },
    {
      "cell_type": "markdown",
      "metadata": {
        "id": "CcifhJQT1PlH"
      },
      "source": [
        "Считываем dataset и выводим его содержимое, для наглядности, на экран:"
      ]
    },
    {
      "cell_type": "code",
      "execution_count": 9,
      "metadata": {
        "colab": {
          "base_uri": "https://localhost:8080/",
          "height": 1000
        },
        "id": "lGy_E3NI1PlI",
        "outputId": "5f3d99a6-435a-48a2-e141-d92698c3b4b5"
      },
      "outputs": [
        {
          "data": {
            "text/html": [
              "<div>\n",
              "<style scoped>\n",
              "    .dataframe tbody tr th:only-of-type {\n",
              "        vertical-align: middle;\n",
              "    }\n",
              "\n",
              "    .dataframe tbody tr th {\n",
              "        vertical-align: top;\n",
              "    }\n",
              "\n",
              "    .dataframe thead th {\n",
              "        text-align: right;\n",
              "    }\n",
              "</style>\n",
              "<table border=\"1\" class=\"dataframe\">\n",
              "  <thead>\n",
              "    <tr style=\"text-align: right;\">\n",
              "      <th></th>\n",
              "      <th>Index</th>\n",
              "      <th>Price</th>\n",
              "      <th>Currency</th>\n",
              "      <th>Condition</th>\n",
              "      <th>Vehicle_brand</th>\n",
              "      <th>Vehicle_model</th>\n",
              "      <th>Vehicle_version</th>\n",
              "      <th>Vehicle_generation</th>\n",
              "      <th>Production_year</th>\n",
              "      <th>Mileage_km</th>\n",
              "      <th>...</th>\n",
              "      <th>Transmission</th>\n",
              "      <th>Type</th>\n",
              "      <th>Doors_number</th>\n",
              "      <th>Colour</th>\n",
              "      <th>Origin_country</th>\n",
              "      <th>First_owner</th>\n",
              "      <th>First_registration_date</th>\n",
              "      <th>Offer_publication_date</th>\n",
              "      <th>Offer_location</th>\n",
              "      <th>Features</th>\n",
              "    </tr>\n",
              "  </thead>\n",
              "  <tbody>\n",
              "    <tr>\n",
              "      <th>0</th>\n",
              "      <td>0</td>\n",
              "      <td>86200</td>\n",
              "      <td>PLN</td>\n",
              "      <td>New</td>\n",
              "      <td>Abarth</td>\n",
              "      <td>595</td>\n",
              "      <td>NaN</td>\n",
              "      <td>NaN</td>\n",
              "      <td>2021</td>\n",
              "      <td>1.0</td>\n",
              "      <td>...</td>\n",
              "      <td>Manual</td>\n",
              "      <td>small_cars</td>\n",
              "      <td>3.0</td>\n",
              "      <td>gray</td>\n",
              "      <td>NaN</td>\n",
              "      <td>NaN</td>\n",
              "      <td>NaN</td>\n",
              "      <td>04/05/2021</td>\n",
              "      <td>ul. Jubilerska 6 - 04-190 Warszawa, Mazowiecki...</td>\n",
              "      <td>[]</td>\n",
              "    </tr>\n",
              "    <tr>\n",
              "      <th>1</th>\n",
              "      <td>1</td>\n",
              "      <td>43500</td>\n",
              "      <td>PLN</td>\n",
              "      <td>Used</td>\n",
              "      <td>Abarth</td>\n",
              "      <td>Other</td>\n",
              "      <td>NaN</td>\n",
              "      <td>NaN</td>\n",
              "      <td>1974</td>\n",
              "      <td>59000.0</td>\n",
              "      <td>...</td>\n",
              "      <td>Manual</td>\n",
              "      <td>coupe</td>\n",
              "      <td>2.0</td>\n",
              "      <td>silver</td>\n",
              "      <td>NaN</td>\n",
              "      <td>NaN</td>\n",
              "      <td>NaN</td>\n",
              "      <td>03/05/2021</td>\n",
              "      <td>kanonierska12 - 04-425 Warszawa, Rembertów (Po...</td>\n",
              "      <td>[]</td>\n",
              "    </tr>\n",
              "    <tr>\n",
              "      <th>2</th>\n",
              "      <td>2</td>\n",
              "      <td>44900</td>\n",
              "      <td>PLN</td>\n",
              "      <td>Used</td>\n",
              "      <td>Abarth</td>\n",
              "      <td>500</td>\n",
              "      <td>NaN</td>\n",
              "      <td>NaN</td>\n",
              "      <td>2018</td>\n",
              "      <td>52000.0</td>\n",
              "      <td>...</td>\n",
              "      <td>Automatic</td>\n",
              "      <td>small_cars</td>\n",
              "      <td>3.0</td>\n",
              "      <td>silver</td>\n",
              "      <td>NaN</td>\n",
              "      <td>NaN</td>\n",
              "      <td>NaN</td>\n",
              "      <td>03/05/2021</td>\n",
              "      <td>Warszawa, Mazowieckie, Białołęka</td>\n",
              "      <td>['ABS', 'Electric front windows', 'Drivers air...</td>\n",
              "    </tr>\n",
              "    <tr>\n",
              "      <th>3</th>\n",
              "      <td>3</td>\n",
              "      <td>39900</td>\n",
              "      <td>PLN</td>\n",
              "      <td>Used</td>\n",
              "      <td>Abarth</td>\n",
              "      <td>500</td>\n",
              "      <td>NaN</td>\n",
              "      <td>NaN</td>\n",
              "      <td>2012</td>\n",
              "      <td>29000.0</td>\n",
              "      <td>...</td>\n",
              "      <td>Manual</td>\n",
              "      <td>small_cars</td>\n",
              "      <td>3.0</td>\n",
              "      <td>gray</td>\n",
              "      <td>NaN</td>\n",
              "      <td>NaN</td>\n",
              "      <td>NaN</td>\n",
              "      <td>30/04/2021</td>\n",
              "      <td>Jaworzno, Śląskie</td>\n",
              "      <td>['ABS', 'Electric front windows', 'Drivers air...</td>\n",
              "    </tr>\n",
              "    <tr>\n",
              "      <th>4</th>\n",
              "      <td>4</td>\n",
              "      <td>97900</td>\n",
              "      <td>PLN</td>\n",
              "      <td>New</td>\n",
              "      <td>Abarth</td>\n",
              "      <td>595</td>\n",
              "      <td>NaN</td>\n",
              "      <td>NaN</td>\n",
              "      <td>2021</td>\n",
              "      <td>600.0</td>\n",
              "      <td>...</td>\n",
              "      <td>Manual</td>\n",
              "      <td>small_cars</td>\n",
              "      <td>3.0</td>\n",
              "      <td>blue</td>\n",
              "      <td>NaN</td>\n",
              "      <td>NaN</td>\n",
              "      <td>NaN</td>\n",
              "      <td>30/04/2021</td>\n",
              "      <td>ul. Gorzysława 9 - 61-057 Poznań, Nowe Miasto ...</td>\n",
              "      <td>['ABS', 'Electrically adjustable mirrors', 'Pa...</td>\n",
              "    </tr>\n",
              "    <tr>\n",
              "      <th>...</th>\n",
              "      <td>...</td>\n",
              "      <td>...</td>\n",
              "      <td>...</td>\n",
              "      <td>...</td>\n",
              "      <td>...</td>\n",
              "      <td>...</td>\n",
              "      <td>...</td>\n",
              "      <td>...</td>\n",
              "      <td>...</td>\n",
              "      <td>...</td>\n",
              "      <td>...</td>\n",
              "      <td>...</td>\n",
              "      <td>...</td>\n",
              "      <td>...</td>\n",
              "      <td>...</td>\n",
              "      <td>...</td>\n",
              "      <td>...</td>\n",
              "      <td>...</td>\n",
              "      <td>...</td>\n",
              "      <td>...</td>\n",
              "      <td>...</td>\n",
              "    </tr>\n",
              "    <tr>\n",
              "      <th>208299</th>\n",
              "      <td>208299</td>\n",
              "      <td>39900</td>\n",
              "      <td>PLN</td>\n",
              "      <td>Used</td>\n",
              "      <td>Żuk</td>\n",
              "      <td>Other</td>\n",
              "      <td>NaN</td>\n",
              "      <td>NaN</td>\n",
              "      <td>2014</td>\n",
              "      <td>40000.0</td>\n",
              "      <td>...</td>\n",
              "      <td>Manual</td>\n",
              "      <td>small_cars</td>\n",
              "      <td>1.0</td>\n",
              "      <td>other</td>\n",
              "      <td>NaN</td>\n",
              "      <td>NaN</td>\n",
              "      <td>NaN</td>\n",
              "      <td>30/04/2021</td>\n",
              "      <td>ul. Huzarska 12 - 47-400 Racibórz, raciborski,...</td>\n",
              "      <td>[]</td>\n",
              "    </tr>\n",
              "    <tr>\n",
              "      <th>208300</th>\n",
              "      <td>208300</td>\n",
              "      <td>10900</td>\n",
              "      <td>PLN</td>\n",
              "      <td>Used</td>\n",
              "      <td>Żuk</td>\n",
              "      <td>Other</td>\n",
              "      <td>NaN</td>\n",
              "      <td>NaN</td>\n",
              "      <td>1970</td>\n",
              "      <td>63518.0</td>\n",
              "      <td>...</td>\n",
              "      <td>Manual</td>\n",
              "      <td>station_wagon</td>\n",
              "      <td>4.0</td>\n",
              "      <td>other</td>\n",
              "      <td>Poland</td>\n",
              "      <td>NaN</td>\n",
              "      <td>NaN</td>\n",
              "      <td>02/05/2021</td>\n",
              "      <td>Włocławek, Kujawsko-pomorskie</td>\n",
              "      <td>[]</td>\n",
              "    </tr>\n",
              "    <tr>\n",
              "      <th>208301</th>\n",
              "      <td>208301</td>\n",
              "      <td>6900</td>\n",
              "      <td>PLN</td>\n",
              "      <td>Used</td>\n",
              "      <td>Żuk</td>\n",
              "      <td>Other</td>\n",
              "      <td>NaN</td>\n",
              "      <td>NaN</td>\n",
              "      <td>1977</td>\n",
              "      <td>11880.0</td>\n",
              "      <td>...</td>\n",
              "      <td>Manual</td>\n",
              "      <td>SUV</td>\n",
              "      <td>3.0</td>\n",
              "      <td>red</td>\n",
              "      <td>NaN</td>\n",
              "      <td>NaN</td>\n",
              "      <td>11/06/1977</td>\n",
              "      <td>28/04/2021</td>\n",
              "      <td>Złotów, złotowski, Wielkopolskie</td>\n",
              "      <td>[]</td>\n",
              "    </tr>\n",
              "    <tr>\n",
              "      <th>208302</th>\n",
              "      <td>208302</td>\n",
              "      <td>5700</td>\n",
              "      <td>PLN</td>\n",
              "      <td>Used</td>\n",
              "      <td>Żuk</td>\n",
              "      <td>Other</td>\n",
              "      <td>NaN</td>\n",
              "      <td>NaN</td>\n",
              "      <td>1986</td>\n",
              "      <td>100000.0</td>\n",
              "      <td>...</td>\n",
              "      <td>Manual</td>\n",
              "      <td>minivan</td>\n",
              "      <td>2.0</td>\n",
              "      <td>blue</td>\n",
              "      <td>NaN</td>\n",
              "      <td>NaN</td>\n",
              "      <td>NaN</td>\n",
              "      <td>24/04/2021</td>\n",
              "      <td>Kraczkowa, łańcucki, Podkarpackie</td>\n",
              "      <td>[]</td>\n",
              "    </tr>\n",
              "    <tr>\n",
              "      <th>208303</th>\n",
              "      <td>208303</td>\n",
              "      <td>11900</td>\n",
              "      <td>PLN</td>\n",
              "      <td>Used</td>\n",
              "      <td>Żuk</td>\n",
              "      <td>Other</td>\n",
              "      <td>NaN</td>\n",
              "      <td>NaN</td>\n",
              "      <td>1985</td>\n",
              "      <td>20056.0</td>\n",
              "      <td>...</td>\n",
              "      <td>Manual</td>\n",
              "      <td>minivan</td>\n",
              "      <td>3.0</td>\n",
              "      <td>red</td>\n",
              "      <td>NaN</td>\n",
              "      <td>NaN</td>\n",
              "      <td>NaN</td>\n",
              "      <td>04/05/2021</td>\n",
              "      <td>Szczecińska 40 - 75-137 Koszalin, Zachodniopom...</td>\n",
              "      <td>[]</td>\n",
              "    </tr>\n",
              "  </tbody>\n",
              "</table>\n",
              "<p>208304 rows × 25 columns</p>\n",
              "</div>"
            ],
            "text/plain": [
              "         Index  Price Currency Condition Vehicle_brand Vehicle_model  \\\n",
              "0            0  86200      PLN       New        Abarth           595   \n",
              "1            1  43500      PLN      Used        Abarth         Other   \n",
              "2            2  44900      PLN      Used        Abarth           500   \n",
              "3            3  39900      PLN      Used        Abarth           500   \n",
              "4            4  97900      PLN       New        Abarth           595   \n",
              "...        ...    ...      ...       ...           ...           ...   \n",
              "208299  208299  39900      PLN      Used           Żuk         Other   \n",
              "208300  208300  10900      PLN      Used           Żuk         Other   \n",
              "208301  208301   6900      PLN      Used           Żuk         Other   \n",
              "208302  208302   5700      PLN      Used           Żuk         Other   \n",
              "208303  208303  11900      PLN      Used           Żuk         Other   \n",
              "\n",
              "       Vehicle_version Vehicle_generation  Production_year  Mileage_km  ...  \\\n",
              "0                  NaN                NaN             2021         1.0  ...   \n",
              "1                  NaN                NaN             1974     59000.0  ...   \n",
              "2                  NaN                NaN             2018     52000.0  ...   \n",
              "3                  NaN                NaN             2012     29000.0  ...   \n",
              "4                  NaN                NaN             2021       600.0  ...   \n",
              "...                ...                ...              ...         ...  ...   \n",
              "208299             NaN                NaN             2014     40000.0  ...   \n",
              "208300             NaN                NaN             1970     63518.0  ...   \n",
              "208301             NaN                NaN             1977     11880.0  ...   \n",
              "208302             NaN                NaN             1986    100000.0  ...   \n",
              "208303             NaN                NaN             1985     20056.0  ...   \n",
              "\n",
              "        Transmission           Type Doors_number  Colour Origin_country  \\\n",
              "0             Manual     small_cars          3.0    gray            NaN   \n",
              "1             Manual          coupe          2.0  silver            NaN   \n",
              "2          Automatic     small_cars          3.0  silver            NaN   \n",
              "3             Manual     small_cars          3.0    gray            NaN   \n",
              "4             Manual     small_cars          3.0    blue            NaN   \n",
              "...              ...            ...          ...     ...            ...   \n",
              "208299        Manual     small_cars          1.0   other            NaN   \n",
              "208300        Manual  station_wagon          4.0   other         Poland   \n",
              "208301        Manual            SUV          3.0     red            NaN   \n",
              "208302        Manual        minivan          2.0    blue            NaN   \n",
              "208303        Manual        minivan          3.0     red            NaN   \n",
              "\n",
              "       First_owner First_registration_date  Offer_publication_date  \\\n",
              "0              NaN                     NaN              04/05/2021   \n",
              "1              NaN                     NaN              03/05/2021   \n",
              "2              NaN                     NaN              03/05/2021   \n",
              "3              NaN                     NaN              30/04/2021   \n",
              "4              NaN                     NaN              30/04/2021   \n",
              "...            ...                     ...                     ...   \n",
              "208299         NaN                     NaN              30/04/2021   \n",
              "208300         NaN                     NaN              02/05/2021   \n",
              "208301         NaN              11/06/1977              28/04/2021   \n",
              "208302         NaN                     NaN              24/04/2021   \n",
              "208303         NaN                     NaN              04/05/2021   \n",
              "\n",
              "                                           Offer_location  \\\n",
              "0       ul. Jubilerska 6 - 04-190 Warszawa, Mazowiecki...   \n",
              "1       kanonierska12 - 04-425 Warszawa, Rembertów (Po...   \n",
              "2                        Warszawa, Mazowieckie, Białołęka   \n",
              "3                                       Jaworzno, Śląskie   \n",
              "4       ul. Gorzysława 9 - 61-057 Poznań, Nowe Miasto ...   \n",
              "...                                                   ...   \n",
              "208299  ul. Huzarska 12 - 47-400 Racibórz, raciborski,...   \n",
              "208300                      Włocławek, Kujawsko-pomorskie   \n",
              "208301                   Złotów, złotowski, Wielkopolskie   \n",
              "208302                  Kraczkowa, łańcucki, Podkarpackie   \n",
              "208303  Szczecińska 40 - 75-137 Koszalin, Zachodniopom...   \n",
              "\n",
              "                                                 Features  \n",
              "0                                                      []  \n",
              "1                                                      []  \n",
              "2       ['ABS', 'Electric front windows', 'Drivers air...  \n",
              "3       ['ABS', 'Electric front windows', 'Drivers air...  \n",
              "4       ['ABS', 'Electrically adjustable mirrors', 'Pa...  \n",
              "...                                                   ...  \n",
              "208299                                                 []  \n",
              "208300                                                 []  \n",
              "208301                                                 []  \n",
              "208302                                                 []  \n",
              "208303                                                 []  \n",
              "\n",
              "[208304 rows x 25 columns]"
            ]
          },
          "execution_count": 9,
          "metadata": {},
          "output_type": "execute_result"
        }
      ],
      "source": [
        "data = pd.read_csv('Car_sale_ads.csv')\n",
        "data"
      ]
    },
    {
      "cell_type": "markdown",
      "metadata": {
        "id": "nM5a6FdA1PlI"
      },
      "source": [
        "Выводим первые 10 строк dataset-а:"
      ]
    },
    {
      "cell_type": "code",
      "execution_count": 10,
      "metadata": {
        "colab": {
          "base_uri": "https://localhost:8080/",
          "height": 1000
        },
        "id": "t7GfKZxM1PlI",
        "outputId": "253684b9-6e11-4823-e4ee-f481eb9a1160"
      },
      "outputs": [
        {
          "data": {
            "text/html": [
              "<div>\n",
              "<style scoped>\n",
              "    .dataframe tbody tr th:only-of-type {\n",
              "        vertical-align: middle;\n",
              "    }\n",
              "\n",
              "    .dataframe tbody tr th {\n",
              "        vertical-align: top;\n",
              "    }\n",
              "\n",
              "    .dataframe thead th {\n",
              "        text-align: right;\n",
              "    }\n",
              "</style>\n",
              "<table border=\"1\" class=\"dataframe\">\n",
              "  <thead>\n",
              "    <tr style=\"text-align: right;\">\n",
              "      <th></th>\n",
              "      <th>Index</th>\n",
              "      <th>Price</th>\n",
              "      <th>Currency</th>\n",
              "      <th>Condition</th>\n",
              "      <th>Vehicle_brand</th>\n",
              "      <th>Vehicle_model</th>\n",
              "      <th>Vehicle_version</th>\n",
              "      <th>Vehicle_generation</th>\n",
              "      <th>Production_year</th>\n",
              "      <th>Mileage_km</th>\n",
              "      <th>...</th>\n",
              "      <th>Transmission</th>\n",
              "      <th>Type</th>\n",
              "      <th>Doors_number</th>\n",
              "      <th>Colour</th>\n",
              "      <th>Origin_country</th>\n",
              "      <th>First_owner</th>\n",
              "      <th>First_registration_date</th>\n",
              "      <th>Offer_publication_date</th>\n",
              "      <th>Offer_location</th>\n",
              "      <th>Features</th>\n",
              "    </tr>\n",
              "  </thead>\n",
              "  <tbody>\n",
              "    <tr>\n",
              "      <th>0</th>\n",
              "      <td>0</td>\n",
              "      <td>86200</td>\n",
              "      <td>PLN</td>\n",
              "      <td>New</td>\n",
              "      <td>Abarth</td>\n",
              "      <td>595</td>\n",
              "      <td>NaN</td>\n",
              "      <td>NaN</td>\n",
              "      <td>2021</td>\n",
              "      <td>1.0</td>\n",
              "      <td>...</td>\n",
              "      <td>Manual</td>\n",
              "      <td>small_cars</td>\n",
              "      <td>3.0</td>\n",
              "      <td>gray</td>\n",
              "      <td>NaN</td>\n",
              "      <td>NaN</td>\n",
              "      <td>NaN</td>\n",
              "      <td>04/05/2021</td>\n",
              "      <td>ul. Jubilerska 6 - 04-190 Warszawa, Mazowiecki...</td>\n",
              "      <td>[]</td>\n",
              "    </tr>\n",
              "    <tr>\n",
              "      <th>1</th>\n",
              "      <td>1</td>\n",
              "      <td>43500</td>\n",
              "      <td>PLN</td>\n",
              "      <td>Used</td>\n",
              "      <td>Abarth</td>\n",
              "      <td>Other</td>\n",
              "      <td>NaN</td>\n",
              "      <td>NaN</td>\n",
              "      <td>1974</td>\n",
              "      <td>59000.0</td>\n",
              "      <td>...</td>\n",
              "      <td>Manual</td>\n",
              "      <td>coupe</td>\n",
              "      <td>2.0</td>\n",
              "      <td>silver</td>\n",
              "      <td>NaN</td>\n",
              "      <td>NaN</td>\n",
              "      <td>NaN</td>\n",
              "      <td>03/05/2021</td>\n",
              "      <td>kanonierska12 - 04-425 Warszawa, Rembertów (Po...</td>\n",
              "      <td>[]</td>\n",
              "    </tr>\n",
              "    <tr>\n",
              "      <th>2</th>\n",
              "      <td>2</td>\n",
              "      <td>44900</td>\n",
              "      <td>PLN</td>\n",
              "      <td>Used</td>\n",
              "      <td>Abarth</td>\n",
              "      <td>500</td>\n",
              "      <td>NaN</td>\n",
              "      <td>NaN</td>\n",
              "      <td>2018</td>\n",
              "      <td>52000.0</td>\n",
              "      <td>...</td>\n",
              "      <td>Automatic</td>\n",
              "      <td>small_cars</td>\n",
              "      <td>3.0</td>\n",
              "      <td>silver</td>\n",
              "      <td>NaN</td>\n",
              "      <td>NaN</td>\n",
              "      <td>NaN</td>\n",
              "      <td>03/05/2021</td>\n",
              "      <td>Warszawa, Mazowieckie, Białołęka</td>\n",
              "      <td>['ABS', 'Electric front windows', 'Drivers air...</td>\n",
              "    </tr>\n",
              "    <tr>\n",
              "      <th>3</th>\n",
              "      <td>3</td>\n",
              "      <td>39900</td>\n",
              "      <td>PLN</td>\n",
              "      <td>Used</td>\n",
              "      <td>Abarth</td>\n",
              "      <td>500</td>\n",
              "      <td>NaN</td>\n",
              "      <td>NaN</td>\n",
              "      <td>2012</td>\n",
              "      <td>29000.0</td>\n",
              "      <td>...</td>\n",
              "      <td>Manual</td>\n",
              "      <td>small_cars</td>\n",
              "      <td>3.0</td>\n",
              "      <td>gray</td>\n",
              "      <td>NaN</td>\n",
              "      <td>NaN</td>\n",
              "      <td>NaN</td>\n",
              "      <td>30/04/2021</td>\n",
              "      <td>Jaworzno, Śląskie</td>\n",
              "      <td>['ABS', 'Electric front windows', 'Drivers air...</td>\n",
              "    </tr>\n",
              "    <tr>\n",
              "      <th>4</th>\n",
              "      <td>4</td>\n",
              "      <td>97900</td>\n",
              "      <td>PLN</td>\n",
              "      <td>New</td>\n",
              "      <td>Abarth</td>\n",
              "      <td>595</td>\n",
              "      <td>NaN</td>\n",
              "      <td>NaN</td>\n",
              "      <td>2021</td>\n",
              "      <td>600.0</td>\n",
              "      <td>...</td>\n",
              "      <td>Manual</td>\n",
              "      <td>small_cars</td>\n",
              "      <td>3.0</td>\n",
              "      <td>blue</td>\n",
              "      <td>NaN</td>\n",
              "      <td>NaN</td>\n",
              "      <td>NaN</td>\n",
              "      <td>30/04/2021</td>\n",
              "      <td>ul. Gorzysława 9 - 61-057 Poznań, Nowe Miasto ...</td>\n",
              "      <td>['ABS', 'Electrically adjustable mirrors', 'Pa...</td>\n",
              "    </tr>\n",
              "    <tr>\n",
              "      <th>5</th>\n",
              "      <td>5</td>\n",
              "      <td>62950</td>\n",
              "      <td>PLN</td>\n",
              "      <td>Used</td>\n",
              "      <td>Abarth</td>\n",
              "      <td>595</td>\n",
              "      <td>NaN</td>\n",
              "      <td>NaN</td>\n",
              "      <td>2016</td>\n",
              "      <td>46060.0</td>\n",
              "      <td>...</td>\n",
              "      <td>Manual</td>\n",
              "      <td>small_cars</td>\n",
              "      <td>3.0</td>\n",
              "      <td>gray</td>\n",
              "      <td>Germany</td>\n",
              "      <td>Yes</td>\n",
              "      <td>15/03/2016</td>\n",
              "      <td>30/04/2021</td>\n",
              "      <td>Modlińska 157 - 03-186 Warszawa, Białołęka (Po...</td>\n",
              "      <td>['ABS', 'Electric front windows', 'Drivers air...</td>\n",
              "    </tr>\n",
              "    <tr>\n",
              "      <th>6</th>\n",
              "      <td>6</td>\n",
              "      <td>69900</td>\n",
              "      <td>PLN</td>\n",
              "      <td>Used</td>\n",
              "      <td>Abarth</td>\n",
              "      <td>595</td>\n",
              "      <td>NaN</td>\n",
              "      <td>NaN</td>\n",
              "      <td>2021</td>\n",
              "      <td>2900.0</td>\n",
              "      <td>...</td>\n",
              "      <td>Manual</td>\n",
              "      <td>small_cars</td>\n",
              "      <td>2.0</td>\n",
              "      <td>black</td>\n",
              "      <td>Germany</td>\n",
              "      <td>NaN</td>\n",
              "      <td>25/02/2021</td>\n",
              "      <td>29/04/2021</td>\n",
              "      <td>Żary, żarski, Lubuskie</td>\n",
              "      <td>[]</td>\n",
              "    </tr>\n",
              "    <tr>\n",
              "      <th>7</th>\n",
              "      <td>7</td>\n",
              "      <td>69900</td>\n",
              "      <td>PLN</td>\n",
              "      <td>Used</td>\n",
              "      <td>Abarth</td>\n",
              "      <td>500</td>\n",
              "      <td>NaN</td>\n",
              "      <td>NaN</td>\n",
              "      <td>2019</td>\n",
              "      <td>20000.0</td>\n",
              "      <td>...</td>\n",
              "      <td>Manual</td>\n",
              "      <td>small_cars</td>\n",
              "      <td>3.0</td>\n",
              "      <td>white</td>\n",
              "      <td>Poland</td>\n",
              "      <td>Yes</td>\n",
              "      <td>NaN</td>\n",
              "      <td>29/04/2021</td>\n",
              "      <td>Ojcowska 2 - 02-918 Warszawa, Mokotów (Polska)</td>\n",
              "      <td>['ABS', 'Electrically adjustable mirrors', 'Pa...</td>\n",
              "    </tr>\n",
              "    <tr>\n",
              "      <th>8</th>\n",
              "      <td>8</td>\n",
              "      <td>120750</td>\n",
              "      <td>PLN</td>\n",
              "      <td>New</td>\n",
              "      <td>Abarth</td>\n",
              "      <td>595</td>\n",
              "      <td>NaN</td>\n",
              "      <td>NaN</td>\n",
              "      <td>2021</td>\n",
              "      <td>1.0</td>\n",
              "      <td>...</td>\n",
              "      <td>Manual</td>\n",
              "      <td>small_cars</td>\n",
              "      <td>3.0</td>\n",
              "      <td>blue</td>\n",
              "      <td>NaN</td>\n",
              "      <td>NaN</td>\n",
              "      <td>NaN</td>\n",
              "      <td>03/05/2021</td>\n",
              "      <td>ul. Gorzysława 9 - 61-057 Poznań, Nowe Miasto ...</td>\n",
              "      <td>['ABS', 'Electrically adjustable mirrors', 'Pa...</td>\n",
              "    </tr>\n",
              "    <tr>\n",
              "      <th>9</th>\n",
              "      <td>9</td>\n",
              "      <td>93100</td>\n",
              "      <td>PLN</td>\n",
              "      <td>New</td>\n",
              "      <td>Abarth</td>\n",
              "      <td>595</td>\n",
              "      <td>NaN</td>\n",
              "      <td>NaN</td>\n",
              "      <td>2021</td>\n",
              "      <td>1.0</td>\n",
              "      <td>...</td>\n",
              "      <td>Manual</td>\n",
              "      <td>small_cars</td>\n",
              "      <td>3.0</td>\n",
              "      <td>gray</td>\n",
              "      <td>NaN</td>\n",
              "      <td>NaN</td>\n",
              "      <td>NaN</td>\n",
              "      <td>03/05/2021</td>\n",
              "      <td>ul. Gorzysława 9 - 61-057 Poznań, Nowe Miasto ...</td>\n",
              "      <td>['ABS', 'Electrically adjustable mirrors', 'Pa...</td>\n",
              "    </tr>\n",
              "  </tbody>\n",
              "</table>\n",
              "<p>10 rows × 25 columns</p>\n",
              "</div>"
            ],
            "text/plain": [
              "   Index   Price Currency Condition Vehicle_brand Vehicle_model  \\\n",
              "0      0   86200      PLN       New        Abarth           595   \n",
              "1      1   43500      PLN      Used        Abarth         Other   \n",
              "2      2   44900      PLN      Used        Abarth           500   \n",
              "3      3   39900      PLN      Used        Abarth           500   \n",
              "4      4   97900      PLN       New        Abarth           595   \n",
              "5      5   62950      PLN      Used        Abarth           595   \n",
              "6      6   69900      PLN      Used        Abarth           595   \n",
              "7      7   69900      PLN      Used        Abarth           500   \n",
              "8      8  120750      PLN       New        Abarth           595   \n",
              "9      9   93100      PLN       New        Abarth           595   \n",
              "\n",
              "  Vehicle_version Vehicle_generation  Production_year  Mileage_km  ...  \\\n",
              "0             NaN                NaN             2021         1.0  ...   \n",
              "1             NaN                NaN             1974     59000.0  ...   \n",
              "2             NaN                NaN             2018     52000.0  ...   \n",
              "3             NaN                NaN             2012     29000.0  ...   \n",
              "4             NaN                NaN             2021       600.0  ...   \n",
              "5             NaN                NaN             2016     46060.0  ...   \n",
              "6             NaN                NaN             2021      2900.0  ...   \n",
              "7             NaN                NaN             2019     20000.0  ...   \n",
              "8             NaN                NaN             2021         1.0  ...   \n",
              "9             NaN                NaN             2021         1.0  ...   \n",
              "\n",
              "   Transmission        Type Doors_number  Colour Origin_country First_owner  \\\n",
              "0        Manual  small_cars          3.0    gray            NaN         NaN   \n",
              "1        Manual       coupe          2.0  silver            NaN         NaN   \n",
              "2     Automatic  small_cars          3.0  silver            NaN         NaN   \n",
              "3        Manual  small_cars          3.0    gray            NaN         NaN   \n",
              "4        Manual  small_cars          3.0    blue            NaN         NaN   \n",
              "5        Manual  small_cars          3.0    gray        Germany         Yes   \n",
              "6        Manual  small_cars          2.0   black        Germany         NaN   \n",
              "7        Manual  small_cars          3.0   white         Poland         Yes   \n",
              "8        Manual  small_cars          3.0    blue            NaN         NaN   \n",
              "9        Manual  small_cars          3.0    gray            NaN         NaN   \n",
              "\n",
              "  First_registration_date  Offer_publication_date  \\\n",
              "0                     NaN              04/05/2021   \n",
              "1                     NaN              03/05/2021   \n",
              "2                     NaN              03/05/2021   \n",
              "3                     NaN              30/04/2021   \n",
              "4                     NaN              30/04/2021   \n",
              "5              15/03/2016              30/04/2021   \n",
              "6              25/02/2021              29/04/2021   \n",
              "7                     NaN              29/04/2021   \n",
              "8                     NaN              03/05/2021   \n",
              "9                     NaN              03/05/2021   \n",
              "\n",
              "                                      Offer_location  \\\n",
              "0  ul. Jubilerska 6 - 04-190 Warszawa, Mazowiecki...   \n",
              "1  kanonierska12 - 04-425 Warszawa, Rembertów (Po...   \n",
              "2                   Warszawa, Mazowieckie, Białołęka   \n",
              "3                                  Jaworzno, Śląskie   \n",
              "4  ul. Gorzysława 9 - 61-057 Poznań, Nowe Miasto ...   \n",
              "5  Modlińska 157 - 03-186 Warszawa, Białołęka (Po...   \n",
              "6                             Żary, żarski, Lubuskie   \n",
              "7     Ojcowska 2 - 02-918 Warszawa, Mokotów (Polska)   \n",
              "8  ul. Gorzysława 9 - 61-057 Poznań, Nowe Miasto ...   \n",
              "9  ul. Gorzysława 9 - 61-057 Poznań, Nowe Miasto ...   \n",
              "\n",
              "                                            Features  \n",
              "0                                                 []  \n",
              "1                                                 []  \n",
              "2  ['ABS', 'Electric front windows', 'Drivers air...  \n",
              "3  ['ABS', 'Electric front windows', 'Drivers air...  \n",
              "4  ['ABS', 'Electrically adjustable mirrors', 'Pa...  \n",
              "5  ['ABS', 'Electric front windows', 'Drivers air...  \n",
              "6                                                 []  \n",
              "7  ['ABS', 'Electrically adjustable mirrors', 'Pa...  \n",
              "8  ['ABS', 'Electrically adjustable mirrors', 'Pa...  \n",
              "9  ['ABS', 'Electrically adjustable mirrors', 'Pa...  \n",
              "\n",
              "[10 rows x 25 columns]"
            ]
          },
          "execution_count": 10,
          "metadata": {},
          "output_type": "execute_result"
        }
      ],
      "source": [
        "data.head(10)"
      ]
    },
    {
      "cell_type": "markdown",
      "metadata": {
        "id": "phbQCw5S1PlI"
      },
      "source": [
        "Выводим последние 10 строк dataset-а:"
      ]
    },
    {
      "cell_type": "code",
      "execution_count": 11,
      "metadata": {
        "colab": {
          "base_uri": "https://localhost:8080/",
          "height": 856
        },
        "id": "hZcxRsJX1PlJ",
        "outputId": "7e86df26-0db4-4516-da25-9c863d813171"
      },
      "outputs": [
        {
          "data": {
            "text/html": [
              "<div>\n",
              "<style scoped>\n",
              "    .dataframe tbody tr th:only-of-type {\n",
              "        vertical-align: middle;\n",
              "    }\n",
              "\n",
              "    .dataframe tbody tr th {\n",
              "        vertical-align: top;\n",
              "    }\n",
              "\n",
              "    .dataframe thead th {\n",
              "        text-align: right;\n",
              "    }\n",
              "</style>\n",
              "<table border=\"1\" class=\"dataframe\">\n",
              "  <thead>\n",
              "    <tr style=\"text-align: right;\">\n",
              "      <th></th>\n",
              "      <th>Index</th>\n",
              "      <th>Price</th>\n",
              "      <th>Currency</th>\n",
              "      <th>Condition</th>\n",
              "      <th>Vehicle_brand</th>\n",
              "      <th>Vehicle_model</th>\n",
              "      <th>Vehicle_version</th>\n",
              "      <th>Vehicle_generation</th>\n",
              "      <th>Production_year</th>\n",
              "      <th>Mileage_km</th>\n",
              "      <th>...</th>\n",
              "      <th>Transmission</th>\n",
              "      <th>Type</th>\n",
              "      <th>Doors_number</th>\n",
              "      <th>Colour</th>\n",
              "      <th>Origin_country</th>\n",
              "      <th>First_owner</th>\n",
              "      <th>First_registration_date</th>\n",
              "      <th>Offer_publication_date</th>\n",
              "      <th>Offer_location</th>\n",
              "      <th>Features</th>\n",
              "    </tr>\n",
              "  </thead>\n",
              "  <tbody>\n",
              "    <tr>\n",
              "      <th>208294</th>\n",
              "      <td>208294</td>\n",
              "      <td>1500</td>\n",
              "      <td>PLN</td>\n",
              "      <td>Used</td>\n",
              "      <td>Zastava</td>\n",
              "      <td>1100</td>\n",
              "      <td>NaN</td>\n",
              "      <td>NaN</td>\n",
              "      <td>1979</td>\n",
              "      <td>106000.0</td>\n",
              "      <td>...</td>\n",
              "      <td>Manual</td>\n",
              "      <td>compact</td>\n",
              "      <td>5.0</td>\n",
              "      <td>green</td>\n",
              "      <td>NaN</td>\n",
              "      <td>NaN</td>\n",
              "      <td>NaN</td>\n",
              "      <td>29/04/2021</td>\n",
              "      <td>Kwileń 42 - 63-313 Kwileń, pleszewski, Wielkop...</td>\n",
              "      <td>[]</td>\n",
              "    </tr>\n",
              "    <tr>\n",
              "      <th>208295</th>\n",
              "      <td>208295</td>\n",
              "      <td>16999</td>\n",
              "      <td>PLN</td>\n",
              "      <td>Used</td>\n",
              "      <td>Zastava</td>\n",
              "      <td>1100</td>\n",
              "      <td>NaN</td>\n",
              "      <td>NaN</td>\n",
              "      <td>1981</td>\n",
              "      <td>62000.0</td>\n",
              "      <td>...</td>\n",
              "      <td>Manual</td>\n",
              "      <td>coupe</td>\n",
              "      <td>3.0</td>\n",
              "      <td>green</td>\n",
              "      <td>NaN</td>\n",
              "      <td>NaN</td>\n",
              "      <td>NaN</td>\n",
              "      <td>25/04/2021</td>\n",
              "      <td>Konstancin-Jeziorna, piaseczyński, Mazowieckie</td>\n",
              "      <td>[]</td>\n",
              "    </tr>\n",
              "    <tr>\n",
              "      <th>208296</th>\n",
              "      <td>208296</td>\n",
              "      <td>1600</td>\n",
              "      <td>PLN</td>\n",
              "      <td>Used</td>\n",
              "      <td>Zastava</td>\n",
              "      <td>Other</td>\n",
              "      <td>NaN</td>\n",
              "      <td>NaN</td>\n",
              "      <td>1998</td>\n",
              "      <td>60000.0</td>\n",
              "      <td>...</td>\n",
              "      <td>Manual</td>\n",
              "      <td>small_cars</td>\n",
              "      <td>3.0</td>\n",
              "      <td>yellow</td>\n",
              "      <td>Poland</td>\n",
              "      <td>Yes</td>\n",
              "      <td>28/05/1999</td>\n",
              "      <td>29/04/2021</td>\n",
              "      <td>Warszawa, Mazowieckie, Mokotów</td>\n",
              "      <td>[]</td>\n",
              "    </tr>\n",
              "    <tr>\n",
              "      <th>208297</th>\n",
              "      <td>208297</td>\n",
              "      <td>19900</td>\n",
              "      <td>PLN</td>\n",
              "      <td>Used</td>\n",
              "      <td>Zastava</td>\n",
              "      <td>1100</td>\n",
              "      <td>NaN</td>\n",
              "      <td>NaN</td>\n",
              "      <td>1981</td>\n",
              "      <td>18712.0</td>\n",
              "      <td>...</td>\n",
              "      <td>Manual</td>\n",
              "      <td>compact</td>\n",
              "      <td>4.0</td>\n",
              "      <td>beige</td>\n",
              "      <td>NaN</td>\n",
              "      <td>NaN</td>\n",
              "      <td>NaN</td>\n",
              "      <td>04/05/2021</td>\n",
              "      <td>Szczecińska 40 - 75-137 Koszalin, Zachodniopom...</td>\n",
              "      <td>[]</td>\n",
              "    </tr>\n",
              "    <tr>\n",
              "      <th>208298</th>\n",
              "      <td>208298</td>\n",
              "      <td>26000</td>\n",
              "      <td>PLN</td>\n",
              "      <td>Used</td>\n",
              "      <td>Zastava</td>\n",
              "      <td>750</td>\n",
              "      <td>NaN</td>\n",
              "      <td>NaN</td>\n",
              "      <td>1978</td>\n",
              "      <td>6000.0</td>\n",
              "      <td>...</td>\n",
              "      <td>Manual</td>\n",
              "      <td>small_cars</td>\n",
              "      <td>2.0</td>\n",
              "      <td>white</td>\n",
              "      <td>Other</td>\n",
              "      <td>NaN</td>\n",
              "      <td>NaN</td>\n",
              "      <td>25/04/2021</td>\n",
              "      <td>Ostrów Wielkopolski, ostrowski, Wielkopolskie</td>\n",
              "      <td>[]</td>\n",
              "    </tr>\n",
              "    <tr>\n",
              "      <th>208299</th>\n",
              "      <td>208299</td>\n",
              "      <td>39900</td>\n",
              "      <td>PLN</td>\n",
              "      <td>Used</td>\n",
              "      <td>Żuk</td>\n",
              "      <td>Other</td>\n",
              "      <td>NaN</td>\n",
              "      <td>NaN</td>\n",
              "      <td>2014</td>\n",
              "      <td>40000.0</td>\n",
              "      <td>...</td>\n",
              "      <td>Manual</td>\n",
              "      <td>small_cars</td>\n",
              "      <td>1.0</td>\n",
              "      <td>other</td>\n",
              "      <td>NaN</td>\n",
              "      <td>NaN</td>\n",
              "      <td>NaN</td>\n",
              "      <td>30/04/2021</td>\n",
              "      <td>ul. Huzarska 12 - 47-400 Racibórz, raciborski,...</td>\n",
              "      <td>[]</td>\n",
              "    </tr>\n",
              "    <tr>\n",
              "      <th>208300</th>\n",
              "      <td>208300</td>\n",
              "      <td>10900</td>\n",
              "      <td>PLN</td>\n",
              "      <td>Used</td>\n",
              "      <td>Żuk</td>\n",
              "      <td>Other</td>\n",
              "      <td>NaN</td>\n",
              "      <td>NaN</td>\n",
              "      <td>1970</td>\n",
              "      <td>63518.0</td>\n",
              "      <td>...</td>\n",
              "      <td>Manual</td>\n",
              "      <td>station_wagon</td>\n",
              "      <td>4.0</td>\n",
              "      <td>other</td>\n",
              "      <td>Poland</td>\n",
              "      <td>NaN</td>\n",
              "      <td>NaN</td>\n",
              "      <td>02/05/2021</td>\n",
              "      <td>Włocławek, Kujawsko-pomorskie</td>\n",
              "      <td>[]</td>\n",
              "    </tr>\n",
              "    <tr>\n",
              "      <th>208301</th>\n",
              "      <td>208301</td>\n",
              "      <td>6900</td>\n",
              "      <td>PLN</td>\n",
              "      <td>Used</td>\n",
              "      <td>Żuk</td>\n",
              "      <td>Other</td>\n",
              "      <td>NaN</td>\n",
              "      <td>NaN</td>\n",
              "      <td>1977</td>\n",
              "      <td>11880.0</td>\n",
              "      <td>...</td>\n",
              "      <td>Manual</td>\n",
              "      <td>SUV</td>\n",
              "      <td>3.0</td>\n",
              "      <td>red</td>\n",
              "      <td>NaN</td>\n",
              "      <td>NaN</td>\n",
              "      <td>11/06/1977</td>\n",
              "      <td>28/04/2021</td>\n",
              "      <td>Złotów, złotowski, Wielkopolskie</td>\n",
              "      <td>[]</td>\n",
              "    </tr>\n",
              "    <tr>\n",
              "      <th>208302</th>\n",
              "      <td>208302</td>\n",
              "      <td>5700</td>\n",
              "      <td>PLN</td>\n",
              "      <td>Used</td>\n",
              "      <td>Żuk</td>\n",
              "      <td>Other</td>\n",
              "      <td>NaN</td>\n",
              "      <td>NaN</td>\n",
              "      <td>1986</td>\n",
              "      <td>100000.0</td>\n",
              "      <td>...</td>\n",
              "      <td>Manual</td>\n",
              "      <td>minivan</td>\n",
              "      <td>2.0</td>\n",
              "      <td>blue</td>\n",
              "      <td>NaN</td>\n",
              "      <td>NaN</td>\n",
              "      <td>NaN</td>\n",
              "      <td>24/04/2021</td>\n",
              "      <td>Kraczkowa, łańcucki, Podkarpackie</td>\n",
              "      <td>[]</td>\n",
              "    </tr>\n",
              "    <tr>\n",
              "      <th>208303</th>\n",
              "      <td>208303</td>\n",
              "      <td>11900</td>\n",
              "      <td>PLN</td>\n",
              "      <td>Used</td>\n",
              "      <td>Żuk</td>\n",
              "      <td>Other</td>\n",
              "      <td>NaN</td>\n",
              "      <td>NaN</td>\n",
              "      <td>1985</td>\n",
              "      <td>20056.0</td>\n",
              "      <td>...</td>\n",
              "      <td>Manual</td>\n",
              "      <td>minivan</td>\n",
              "      <td>3.0</td>\n",
              "      <td>red</td>\n",
              "      <td>NaN</td>\n",
              "      <td>NaN</td>\n",
              "      <td>NaN</td>\n",
              "      <td>04/05/2021</td>\n",
              "      <td>Szczecińska 40 - 75-137 Koszalin, Zachodniopom...</td>\n",
              "      <td>[]</td>\n",
              "    </tr>\n",
              "  </tbody>\n",
              "</table>\n",
              "<p>10 rows × 25 columns</p>\n",
              "</div>"
            ],
            "text/plain": [
              "         Index  Price Currency Condition Vehicle_brand Vehicle_model  \\\n",
              "208294  208294   1500      PLN      Used       Zastava          1100   \n",
              "208295  208295  16999      PLN      Used       Zastava          1100   \n",
              "208296  208296   1600      PLN      Used       Zastava         Other   \n",
              "208297  208297  19900      PLN      Used       Zastava          1100   \n",
              "208298  208298  26000      PLN      Used       Zastava           750   \n",
              "208299  208299  39900      PLN      Used           Żuk         Other   \n",
              "208300  208300  10900      PLN      Used           Żuk         Other   \n",
              "208301  208301   6900      PLN      Used           Żuk         Other   \n",
              "208302  208302   5700      PLN      Used           Żuk         Other   \n",
              "208303  208303  11900      PLN      Used           Żuk         Other   \n",
              "\n",
              "       Vehicle_version Vehicle_generation  Production_year  Mileage_km  ...  \\\n",
              "208294             NaN                NaN             1979    106000.0  ...   \n",
              "208295             NaN                NaN             1981     62000.0  ...   \n",
              "208296             NaN                NaN             1998     60000.0  ...   \n",
              "208297             NaN                NaN             1981     18712.0  ...   \n",
              "208298             NaN                NaN             1978      6000.0  ...   \n",
              "208299             NaN                NaN             2014     40000.0  ...   \n",
              "208300             NaN                NaN             1970     63518.0  ...   \n",
              "208301             NaN                NaN             1977     11880.0  ...   \n",
              "208302             NaN                NaN             1986    100000.0  ...   \n",
              "208303             NaN                NaN             1985     20056.0  ...   \n",
              "\n",
              "        Transmission           Type Doors_number  Colour Origin_country  \\\n",
              "208294        Manual        compact          5.0   green            NaN   \n",
              "208295        Manual          coupe          3.0   green            NaN   \n",
              "208296        Manual     small_cars          3.0  yellow         Poland   \n",
              "208297        Manual        compact          4.0   beige            NaN   \n",
              "208298        Manual     small_cars          2.0   white          Other   \n",
              "208299        Manual     small_cars          1.0   other            NaN   \n",
              "208300        Manual  station_wagon          4.0   other         Poland   \n",
              "208301        Manual            SUV          3.0     red            NaN   \n",
              "208302        Manual        minivan          2.0    blue            NaN   \n",
              "208303        Manual        minivan          3.0     red            NaN   \n",
              "\n",
              "       First_owner First_registration_date  Offer_publication_date  \\\n",
              "208294         NaN                     NaN              29/04/2021   \n",
              "208295         NaN                     NaN              25/04/2021   \n",
              "208296         Yes              28/05/1999              29/04/2021   \n",
              "208297         NaN                     NaN              04/05/2021   \n",
              "208298         NaN                     NaN              25/04/2021   \n",
              "208299         NaN                     NaN              30/04/2021   \n",
              "208300         NaN                     NaN              02/05/2021   \n",
              "208301         NaN              11/06/1977              28/04/2021   \n",
              "208302         NaN                     NaN              24/04/2021   \n",
              "208303         NaN                     NaN              04/05/2021   \n",
              "\n",
              "                                           Offer_location Features  \n",
              "208294  Kwileń 42 - 63-313 Kwileń, pleszewski, Wielkop...       []  \n",
              "208295     Konstancin-Jeziorna, piaseczyński, Mazowieckie       []  \n",
              "208296                     Warszawa, Mazowieckie, Mokotów       []  \n",
              "208297  Szczecińska 40 - 75-137 Koszalin, Zachodniopom...       []  \n",
              "208298      Ostrów Wielkopolski, ostrowski, Wielkopolskie       []  \n",
              "208299  ul. Huzarska 12 - 47-400 Racibórz, raciborski,...       []  \n",
              "208300                      Włocławek, Kujawsko-pomorskie       []  \n",
              "208301                   Złotów, złotowski, Wielkopolskie       []  \n",
              "208302                  Kraczkowa, łańcucki, Podkarpackie       []  \n",
              "208303  Szczecińska 40 - 75-137 Koszalin, Zachodniopom...       []  \n",
              "\n",
              "[10 rows x 25 columns]"
            ]
          },
          "execution_count": 11,
          "metadata": {},
          "output_type": "execute_result"
        }
      ],
      "source": [
        "data.tail(10)"
      ]
    },
    {
      "cell_type": "markdown",
      "metadata": {
        "id": "9PRsyls31PlJ"
      },
      "source": [
        "### О наборе данных:\n",
        "\n",
        "Context\n",
        "This dataset was created by webscraping over 200,000 car offers from one of the largest car advertisement sites in Poland.\n",
        "The code used to collect and clean the data is available at github: github.com/pt3k/otomoto-webscrape\n",
        "\n",
        "Content\n",
        "The dataset contains 208,304 observations of 25 variables.\n",
        "\n",
        "Variables describtion:\n",
        "\n",
        "- `ID` - unique ID of offer\n",
        "- Price - value of the price\n",
        "- Currency - currency of the price (mostly polish złoty, but also some euro)\n",
        "- Condition - new or used\n",
        "- Vehicle_brand - brand of vehicle in offer\n",
        "- Vehicle_model - model of vehicle in offer\n",
        "- Vehicle_generation - generation of vehicle in offer\n",
        "- Vehicle_version - version of vehicle in offer\n",
        "- Production_year - year of car production\n",
        "- Mileage_km - total distance that the car has driven in kilometers\n",
        "- Power_HP - car engine power in horsepower\n",
        "- Displacement_cm3 - car engine size in cubic centimeters\n",
        "- Fuel_type - car fuel type\n",
        "- CO2_emissions - car CO2 emissions in g/km\n",
        "- Drive - type of car drive\n",
        "- Transmission - type of car transmission\n",
        "- Type - car body style\n",
        "- Doors_number - number of car doors\n",
        "- Colour - car body color\n",
        "- Origin_country - country of origin of the car\n",
        "- First_owner - whether the owner is the first owner\n",
        "- First_registration_date - date of first registration\n",
        "- Offer_publication_date - date of publication of the offer\n",
        "- Offer_location - address provided by the issuer\n",
        "- Features - listed car features (ABS, airbag, parking sensors e.t.c)"
      ]
    },
    {
      "cell_type": "markdown",
      "metadata": {
        "id": "_Jqdxb3M1PlJ"
      },
      "source": [
        "Ознакомимся с некоторыми свойствами Pandas.DataFrame на примере нашего dataset-а:"
      ]
    },
    {
      "cell_type": "code",
      "execution_count": 12,
      "metadata": {
        "colab": {
          "base_uri": "https://localhost:8080/"
        },
        "id": "RPH0drks1PlK",
        "outputId": "65e134e7-0837-486b-dd9c-c0d9b5ce8fb5"
      },
      "outputs": [
        {
          "name": "stdout",
          "output_type": "stream",
          "text": [
            "(208304, 25)\n",
            "\n",
            "Index(['Index', 'Price', 'Currency', 'Condition', 'Vehicle_brand',\n",
            "       'Vehicle_model', 'Vehicle_version', 'Vehicle_generation',\n",
            "       'Production_year', 'Mileage_km', 'Power_HP', 'Displacement_cm3',\n",
            "       'Fuel_type', 'CO2_emissions', 'Drive', 'Transmission', 'Type',\n",
            "       'Doors_number', 'Colour', 'Origin_country', 'First_owner',\n",
            "       'First_registration_date', 'Offer_publication_date', 'Offer_location',\n",
            "       'Features'],\n",
            "      dtype='object')\n",
            "\n",
            "RangeIndex(start=0, stop=208304, step=1)\n",
            "\n",
            "nan\n",
            "\n",
            "nan\n",
            "\n",
            "object\n",
            "\n",
            "<class 'pandas.core.series.Series'>\n",
            "\n",
            "<class 'float'>\n",
            "\n"
          ]
        }
      ],
      "source": [
        "print(data.shape, end=\"\\n\\n\")\n",
        "print(data.columns, end=\"\\n\\n\")\n",
        "print(data.index, end=\"\\n\\n\")\n",
        "print(data.at[2, 'Vehicle_generation'], end=\"\\n\\n\")\n",
        "print(data[\"Vehicle_generation\"][2], end=\"\\n\\n\")\n",
        "print(data[\"Vehicle_generation\"].dtype, end=\"\\n\\n\")\n",
        "print(type(data[\"Vehicle_generation\"]), end=\"\\n\\n\")\n",
        "print(type(data[\"Vehicle_generation\"][2]), end=\"\\n\\n\")"
      ]
    },
    {
      "cell_type": "markdown",
      "metadata": {
        "id": "5gVHZ77l1PlK"
      },
      "source": [
        "Выведем описательную статистику по нашему dataset-у:"
      ]
    },
    {
      "cell_type": "code",
      "execution_count": 13,
      "metadata": {
        "colab": {
          "base_uri": "https://localhost:8080/",
          "height": 300
        },
        "id": "aNnaPait1PlK",
        "outputId": "2f3a83a1-ccc0-4228-85ac-45ea53a56675"
      },
      "outputs": [
        {
          "data": {
            "text/html": [
              "<div>\n",
              "<style scoped>\n",
              "    .dataframe tbody tr th:only-of-type {\n",
              "        vertical-align: middle;\n",
              "    }\n",
              "\n",
              "    .dataframe tbody tr th {\n",
              "        vertical-align: top;\n",
              "    }\n",
              "\n",
              "    .dataframe thead th {\n",
              "        text-align: right;\n",
              "    }\n",
              "</style>\n",
              "<table border=\"1\" class=\"dataframe\">\n",
              "  <thead>\n",
              "    <tr style=\"text-align: right;\">\n",
              "      <th></th>\n",
              "      <th>Index</th>\n",
              "      <th>Price</th>\n",
              "      <th>Production_year</th>\n",
              "      <th>Mileage_km</th>\n",
              "      <th>Power_HP</th>\n",
              "      <th>Displacement_cm3</th>\n",
              "      <th>CO2_emissions</th>\n",
              "      <th>Doors_number</th>\n",
              "    </tr>\n",
              "  </thead>\n",
              "  <tbody>\n",
              "    <tr>\n",
              "      <th>count</th>\n",
              "      <td>208304.000000</td>\n",
              "      <td>2.083040e+05</td>\n",
              "      <td>208304.000000</td>\n",
              "      <td>2.073210e+05</td>\n",
              "      <td>207661.000000</td>\n",
              "      <td>206338.000000</td>\n",
              "      <td>9.404700e+04</td>\n",
              "      <td>206817.000000</td>\n",
              "    </tr>\n",
              "    <tr>\n",
              "      <th>mean</th>\n",
              "      <td>104151.500000</td>\n",
              "      <td>6.305383e+04</td>\n",
              "      <td>2012.098241</td>\n",
              "      <td>1.502768e+05</td>\n",
              "      <td>151.836281</td>\n",
              "      <td>1882.567147</td>\n",
              "      <td>3.191564e+05</td>\n",
              "      <td>4.637138</td>\n",
              "    </tr>\n",
              "    <tr>\n",
              "      <th>std</th>\n",
              "      <td>60132.329574</td>\n",
              "      <td>8.665967e+04</td>\n",
              "      <td>6.998414</td>\n",
              "      <td>2.937447e+06</td>\n",
              "      <td>77.683546</td>\n",
              "      <td>729.609660</td>\n",
              "      <td>7.291396e+07</td>\n",
              "      <td>0.768559</td>\n",
              "    </tr>\n",
              "    <tr>\n",
              "      <th>min</th>\n",
              "      <td>0.000000</td>\n",
              "      <td>5.000000e+02</td>\n",
              "      <td>1915.000000</td>\n",
              "      <td>1.000000e+00</td>\n",
              "      <td>1.000000</td>\n",
              "      <td>400.000000</td>\n",
              "      <td>1.000000e+00</td>\n",
              "      <td>1.000000</td>\n",
              "    </tr>\n",
              "    <tr>\n",
              "      <th>25%</th>\n",
              "      <td>52075.750000</td>\n",
              "      <td>1.780000e+04</td>\n",
              "      <td>2008.000000</td>\n",
              "      <td>5.300000e+04</td>\n",
              "      <td>105.000000</td>\n",
              "      <td>1461.000000</td>\n",
              "      <td>1.200000e+02</td>\n",
              "      <td>5.000000</td>\n",
              "    </tr>\n",
              "    <tr>\n",
              "      <th>50%</th>\n",
              "      <td>104151.500000</td>\n",
              "      <td>3.570000e+04</td>\n",
              "      <td>2013.000000</td>\n",
              "      <td>1.445660e+05</td>\n",
              "      <td>136.000000</td>\n",
              "      <td>1798.000000</td>\n",
              "      <td>1.400000e+02</td>\n",
              "      <td>5.000000</td>\n",
              "    </tr>\n",
              "    <tr>\n",
              "      <th>75%</th>\n",
              "      <td>156227.250000</td>\n",
              "      <td>7.599000e+04</td>\n",
              "      <td>2017.000000</td>\n",
              "      <td>2.060000e+05</td>\n",
              "      <td>172.000000</td>\n",
              "      <td>1997.000000</td>\n",
              "      <td>1.640000e+02</td>\n",
              "      <td>5.000000</td>\n",
              "    </tr>\n",
              "    <tr>\n",
              "      <th>max</th>\n",
              "      <td>208303.000000</td>\n",
              "      <td>6.999000e+06</td>\n",
              "      <td>2021.000000</td>\n",
              "      <td>1.111111e+09</td>\n",
              "      <td>1398.000000</td>\n",
              "      <td>8400.000000</td>\n",
              "      <td>2.000000e+10</td>\n",
              "      <td>55.000000</td>\n",
              "    </tr>\n",
              "  </tbody>\n",
              "</table>\n",
              "</div>"
            ],
            "text/plain": [
              "               Index         Price  Production_year    Mileage_km  \\\n",
              "count  208304.000000  2.083040e+05    208304.000000  2.073210e+05   \n",
              "mean   104151.500000  6.305383e+04      2012.098241  1.502768e+05   \n",
              "std     60132.329574  8.665967e+04         6.998414  2.937447e+06   \n",
              "min         0.000000  5.000000e+02      1915.000000  1.000000e+00   \n",
              "25%     52075.750000  1.780000e+04      2008.000000  5.300000e+04   \n",
              "50%    104151.500000  3.570000e+04      2013.000000  1.445660e+05   \n",
              "75%    156227.250000  7.599000e+04      2017.000000  2.060000e+05   \n",
              "max    208303.000000  6.999000e+06      2021.000000  1.111111e+09   \n",
              "\n",
              "            Power_HP  Displacement_cm3  CO2_emissions   Doors_number  \n",
              "count  207661.000000     206338.000000   9.404700e+04  206817.000000  \n",
              "mean      151.836281       1882.567147   3.191564e+05       4.637138  \n",
              "std        77.683546        729.609660   7.291396e+07       0.768559  \n",
              "min         1.000000        400.000000   1.000000e+00       1.000000  \n",
              "25%       105.000000       1461.000000   1.200000e+02       5.000000  \n",
              "50%       136.000000       1798.000000   1.400000e+02       5.000000  \n",
              "75%       172.000000       1997.000000   1.640000e+02       5.000000  \n",
              "max      1398.000000       8400.000000   2.000000e+10      55.000000  "
            ]
          },
          "execution_count": 13,
          "metadata": {},
          "output_type": "execute_result"
        }
      ],
      "source": [
        "data.describe()"
      ]
    },
    {
      "cell_type": "code",
      "execution_count": 14,
      "metadata": {
        "colab": {
          "base_uri": "https://localhost:8080/",
          "height": 274
        },
        "id": "RLHvt9de1PlK",
        "outputId": "b5402b06-2131-4ae6-d835-471403c4a77e"
      },
      "outputs": [
        {
          "data": {
            "text/html": [
              "<div>\n",
              "<style scoped>\n",
              "    .dataframe tbody tr th:only-of-type {\n",
              "        vertical-align: middle;\n",
              "    }\n",
              "\n",
              "    .dataframe tbody tr th {\n",
              "        vertical-align: top;\n",
              "    }\n",
              "\n",
              "    .dataframe thead th {\n",
              "        text-align: right;\n",
              "    }\n",
              "</style>\n",
              "<table border=\"1\" class=\"dataframe\">\n",
              "  <thead>\n",
              "    <tr style=\"text-align: right;\">\n",
              "      <th></th>\n",
              "      <th>Currency</th>\n",
              "      <th>Condition</th>\n",
              "      <th>Vehicle_brand</th>\n",
              "      <th>Vehicle_model</th>\n",
              "      <th>Vehicle_version</th>\n",
              "      <th>Vehicle_generation</th>\n",
              "      <th>Fuel_type</th>\n",
              "      <th>Drive</th>\n",
              "      <th>Transmission</th>\n",
              "      <th>Type</th>\n",
              "      <th>Colour</th>\n",
              "      <th>Origin_country</th>\n",
              "      <th>First_owner</th>\n",
              "      <th>First_registration_date</th>\n",
              "      <th>Offer_publication_date</th>\n",
              "      <th>Offer_location</th>\n",
              "      <th>Features</th>\n",
              "    </tr>\n",
              "  </thead>\n",
              "  <tbody>\n",
              "    <tr>\n",
              "      <th>count</th>\n",
              "      <td>208304</td>\n",
              "      <td>208304</td>\n",
              "      <td>208304</td>\n",
              "      <td>208304</td>\n",
              "      <td>138082</td>\n",
              "      <td>147860</td>\n",
              "      <td>208304</td>\n",
              "      <td>193228</td>\n",
              "      <td>207825</td>\n",
              "      <td>208304</td>\n",
              "      <td>208304</td>\n",
              "      <td>118312</td>\n",
              "      <td>65094</td>\n",
              "      <td>86445</td>\n",
              "      <td>208304</td>\n",
              "      <td>208304</td>\n",
              "      <td>208304</td>\n",
              "    </tr>\n",
              "    <tr>\n",
              "      <th>unique</th>\n",
              "      <td>2</td>\n",
              "      <td>2</td>\n",
              "      <td>108</td>\n",
              "      <td>1203</td>\n",
              "      <td>19056</td>\n",
              "      <td>569</td>\n",
              "      <td>8</td>\n",
              "      <td>5</td>\n",
              "      <td>2</td>\n",
              "      <td>9</td>\n",
              "      <td>14</td>\n",
              "      <td>37</td>\n",
              "      <td>1</td>\n",
              "      <td>8441</td>\n",
              "      <td>41</td>\n",
              "      <td>13635</td>\n",
              "      <td>177211</td>\n",
              "    </tr>\n",
              "    <tr>\n",
              "      <th>top</th>\n",
              "      <td>PLN</td>\n",
              "      <td>Used</td>\n",
              "      <td>Volkswagen</td>\n",
              "      <td>Astra</td>\n",
              "      <td>2.0 TDI</td>\n",
              "      <td>II (2012-)</td>\n",
              "      <td>Gasoline</td>\n",
              "      <td>Front wheels</td>\n",
              "      <td>Manual</td>\n",
              "      <td>SUV</td>\n",
              "      <td>black</td>\n",
              "      <td>Poland</td>\n",
              "      <td>Yes</td>\n",
              "      <td>01/01/2017</td>\n",
              "      <td>03/05/2021</td>\n",
              "      <td>Stalowa 16 - 41-506 Chorzów, Śląskie (Polska)</td>\n",
              "      <td>[]</td>\n",
              "    </tr>\n",
              "    <tr>\n",
              "      <th>freq</th>\n",
              "      <td>208034</td>\n",
              "      <td>182850</td>\n",
              "      <td>18455</td>\n",
              "      <td>5302</td>\n",
              "      <td>888</td>\n",
              "      <td>3758</td>\n",
              "      <td>99352</td>\n",
              "      <td>139944</td>\n",
              "      <td>132889</td>\n",
              "      <td>41587</td>\n",
              "      <td>50355</td>\n",
              "      <td>57127</td>\n",
              "      <td>65094</td>\n",
              "      <td>216</td>\n",
              "      <td>26561</td>\n",
              "      <td>1329</td>\n",
              "      <td>13337</td>\n",
              "    </tr>\n",
              "  </tbody>\n",
              "</table>\n",
              "</div>"
            ],
            "text/plain": [
              "       Currency Condition Vehicle_brand Vehicle_model Vehicle_version  \\\n",
              "count    208304    208304        208304        208304          138082   \n",
              "unique        2         2           108          1203           19056   \n",
              "top         PLN      Used    Volkswagen         Astra         2.0 TDI   \n",
              "freq     208034    182850         18455          5302             888   \n",
              "\n",
              "       Vehicle_generation Fuel_type         Drive Transmission    Type  \\\n",
              "count              147860    208304        193228       207825  208304   \n",
              "unique                569         8             5            2       9   \n",
              "top            II (2012-)  Gasoline  Front wheels       Manual     SUV   \n",
              "freq                 3758     99352        139944       132889   41587   \n",
              "\n",
              "        Colour Origin_country First_owner First_registration_date  \\\n",
              "count   208304         118312       65094                   86445   \n",
              "unique      14             37           1                    8441   \n",
              "top      black         Poland         Yes              01/01/2017   \n",
              "freq     50355          57127       65094                     216   \n",
              "\n",
              "       Offer_publication_date                                 Offer_location  \\\n",
              "count                  208304                                         208304   \n",
              "unique                     41                                          13635   \n",
              "top                03/05/2021  Stalowa 16 - 41-506 Chorzów, Śląskie (Polska)   \n",
              "freq                    26561                                           1329   \n",
              "\n",
              "       Features  \n",
              "count    208304  \n",
              "unique   177211  \n",
              "top          []  \n",
              "freq      13337  "
            ]
          },
          "execution_count": 14,
          "metadata": {},
          "output_type": "execute_result"
        }
      ],
      "source": [
        "data.describe(include = ['object'])"
      ]
    },
    {
      "cell_type": "code",
      "execution_count": 15,
      "metadata": {
        "colab": {
          "base_uri": "https://localhost:8080/",
          "height": 522
        },
        "id": "y-wMJihb1PlK",
        "outputId": "52789a3a-4acc-4425-e12f-cc0c785a9ede"
      },
      "outputs": [
        {
          "data": {
            "text/html": [
              "<div>\n",
              "<style scoped>\n",
              "    .dataframe tbody tr th:only-of-type {\n",
              "        vertical-align: middle;\n",
              "    }\n",
              "\n",
              "    .dataframe tbody tr th {\n",
              "        vertical-align: top;\n",
              "    }\n",
              "\n",
              "    .dataframe thead th {\n",
              "        text-align: right;\n",
              "    }\n",
              "</style>\n",
              "<table border=\"1\" class=\"dataframe\">\n",
              "  <thead>\n",
              "    <tr style=\"text-align: right;\">\n",
              "      <th></th>\n",
              "      <th>Index</th>\n",
              "      <th>Price</th>\n",
              "      <th>Currency</th>\n",
              "      <th>Condition</th>\n",
              "      <th>Vehicle_brand</th>\n",
              "      <th>Vehicle_model</th>\n",
              "      <th>Vehicle_version</th>\n",
              "      <th>Vehicle_generation</th>\n",
              "      <th>Production_year</th>\n",
              "      <th>Mileage_km</th>\n",
              "      <th>...</th>\n",
              "      <th>Transmission</th>\n",
              "      <th>Type</th>\n",
              "      <th>Doors_number</th>\n",
              "      <th>Colour</th>\n",
              "      <th>Origin_country</th>\n",
              "      <th>First_owner</th>\n",
              "      <th>First_registration_date</th>\n",
              "      <th>Offer_publication_date</th>\n",
              "      <th>Offer_location</th>\n",
              "      <th>Features</th>\n",
              "    </tr>\n",
              "  </thead>\n",
              "  <tbody>\n",
              "    <tr>\n",
              "      <th>count</th>\n",
              "      <td>208304.000000</td>\n",
              "      <td>2.083040e+05</td>\n",
              "      <td>208304</td>\n",
              "      <td>208304</td>\n",
              "      <td>208304</td>\n",
              "      <td>208304</td>\n",
              "      <td>138082</td>\n",
              "      <td>147860</td>\n",
              "      <td>208304.000000</td>\n",
              "      <td>2.073210e+05</td>\n",
              "      <td>...</td>\n",
              "      <td>207825</td>\n",
              "      <td>208304</td>\n",
              "      <td>206817.000000</td>\n",
              "      <td>208304</td>\n",
              "      <td>118312</td>\n",
              "      <td>65094</td>\n",
              "      <td>86445</td>\n",
              "      <td>208304</td>\n",
              "      <td>208304</td>\n",
              "      <td>208304</td>\n",
              "    </tr>\n",
              "    <tr>\n",
              "      <th>unique</th>\n",
              "      <td>NaN</td>\n",
              "      <td>NaN</td>\n",
              "      <td>2</td>\n",
              "      <td>2</td>\n",
              "      <td>108</td>\n",
              "      <td>1203</td>\n",
              "      <td>19056</td>\n",
              "      <td>569</td>\n",
              "      <td>NaN</td>\n",
              "      <td>NaN</td>\n",
              "      <td>...</td>\n",
              "      <td>2</td>\n",
              "      <td>9</td>\n",
              "      <td>NaN</td>\n",
              "      <td>14</td>\n",
              "      <td>37</td>\n",
              "      <td>1</td>\n",
              "      <td>8441</td>\n",
              "      <td>41</td>\n",
              "      <td>13635</td>\n",
              "      <td>177211</td>\n",
              "    </tr>\n",
              "    <tr>\n",
              "      <th>top</th>\n",
              "      <td>NaN</td>\n",
              "      <td>NaN</td>\n",
              "      <td>PLN</td>\n",
              "      <td>Used</td>\n",
              "      <td>Volkswagen</td>\n",
              "      <td>Astra</td>\n",
              "      <td>2.0 TDI</td>\n",
              "      <td>II (2012-)</td>\n",
              "      <td>NaN</td>\n",
              "      <td>NaN</td>\n",
              "      <td>...</td>\n",
              "      <td>Manual</td>\n",
              "      <td>SUV</td>\n",
              "      <td>NaN</td>\n",
              "      <td>black</td>\n",
              "      <td>Poland</td>\n",
              "      <td>Yes</td>\n",
              "      <td>01/01/2017</td>\n",
              "      <td>03/05/2021</td>\n",
              "      <td>Stalowa 16 - 41-506 Chorzów, Śląskie (Polska)</td>\n",
              "      <td>[]</td>\n",
              "    </tr>\n",
              "    <tr>\n",
              "      <th>freq</th>\n",
              "      <td>NaN</td>\n",
              "      <td>NaN</td>\n",
              "      <td>208034</td>\n",
              "      <td>182850</td>\n",
              "      <td>18455</td>\n",
              "      <td>5302</td>\n",
              "      <td>888</td>\n",
              "      <td>3758</td>\n",
              "      <td>NaN</td>\n",
              "      <td>NaN</td>\n",
              "      <td>...</td>\n",
              "      <td>132889</td>\n",
              "      <td>41587</td>\n",
              "      <td>NaN</td>\n",
              "      <td>50355</td>\n",
              "      <td>57127</td>\n",
              "      <td>65094</td>\n",
              "      <td>216</td>\n",
              "      <td>26561</td>\n",
              "      <td>1329</td>\n",
              "      <td>13337</td>\n",
              "    </tr>\n",
              "    <tr>\n",
              "      <th>mean</th>\n",
              "      <td>104151.500000</td>\n",
              "      <td>6.305383e+04</td>\n",
              "      <td>NaN</td>\n",
              "      <td>NaN</td>\n",
              "      <td>NaN</td>\n",
              "      <td>NaN</td>\n",
              "      <td>NaN</td>\n",
              "      <td>NaN</td>\n",
              "      <td>2012.098241</td>\n",
              "      <td>1.502768e+05</td>\n",
              "      <td>...</td>\n",
              "      <td>NaN</td>\n",
              "      <td>NaN</td>\n",
              "      <td>4.637138</td>\n",
              "      <td>NaN</td>\n",
              "      <td>NaN</td>\n",
              "      <td>NaN</td>\n",
              "      <td>NaN</td>\n",
              "      <td>NaN</td>\n",
              "      <td>NaN</td>\n",
              "      <td>NaN</td>\n",
              "    </tr>\n",
              "    <tr>\n",
              "      <th>std</th>\n",
              "      <td>60132.329574</td>\n",
              "      <td>8.665967e+04</td>\n",
              "      <td>NaN</td>\n",
              "      <td>NaN</td>\n",
              "      <td>NaN</td>\n",
              "      <td>NaN</td>\n",
              "      <td>NaN</td>\n",
              "      <td>NaN</td>\n",
              "      <td>6.998414</td>\n",
              "      <td>2.937447e+06</td>\n",
              "      <td>...</td>\n",
              "      <td>NaN</td>\n",
              "      <td>NaN</td>\n",
              "      <td>0.768559</td>\n",
              "      <td>NaN</td>\n",
              "      <td>NaN</td>\n",
              "      <td>NaN</td>\n",
              "      <td>NaN</td>\n",
              "      <td>NaN</td>\n",
              "      <td>NaN</td>\n",
              "      <td>NaN</td>\n",
              "    </tr>\n",
              "    <tr>\n",
              "      <th>min</th>\n",
              "      <td>0.000000</td>\n",
              "      <td>5.000000e+02</td>\n",
              "      <td>NaN</td>\n",
              "      <td>NaN</td>\n",
              "      <td>NaN</td>\n",
              "      <td>NaN</td>\n",
              "      <td>NaN</td>\n",
              "      <td>NaN</td>\n",
              "      <td>1915.000000</td>\n",
              "      <td>1.000000e+00</td>\n",
              "      <td>...</td>\n",
              "      <td>NaN</td>\n",
              "      <td>NaN</td>\n",
              "      <td>1.000000</td>\n",
              "      <td>NaN</td>\n",
              "      <td>NaN</td>\n",
              "      <td>NaN</td>\n",
              "      <td>NaN</td>\n",
              "      <td>NaN</td>\n",
              "      <td>NaN</td>\n",
              "      <td>NaN</td>\n",
              "    </tr>\n",
              "    <tr>\n",
              "      <th>25%</th>\n",
              "      <td>52075.750000</td>\n",
              "      <td>1.780000e+04</td>\n",
              "      <td>NaN</td>\n",
              "      <td>NaN</td>\n",
              "      <td>NaN</td>\n",
              "      <td>NaN</td>\n",
              "      <td>NaN</td>\n",
              "      <td>NaN</td>\n",
              "      <td>2008.000000</td>\n",
              "      <td>5.300000e+04</td>\n",
              "      <td>...</td>\n",
              "      <td>NaN</td>\n",
              "      <td>NaN</td>\n",
              "      <td>5.000000</td>\n",
              "      <td>NaN</td>\n",
              "      <td>NaN</td>\n",
              "      <td>NaN</td>\n",
              "      <td>NaN</td>\n",
              "      <td>NaN</td>\n",
              "      <td>NaN</td>\n",
              "      <td>NaN</td>\n",
              "    </tr>\n",
              "    <tr>\n",
              "      <th>50%</th>\n",
              "      <td>104151.500000</td>\n",
              "      <td>3.570000e+04</td>\n",
              "      <td>NaN</td>\n",
              "      <td>NaN</td>\n",
              "      <td>NaN</td>\n",
              "      <td>NaN</td>\n",
              "      <td>NaN</td>\n",
              "      <td>NaN</td>\n",
              "      <td>2013.000000</td>\n",
              "      <td>1.445660e+05</td>\n",
              "      <td>...</td>\n",
              "      <td>NaN</td>\n",
              "      <td>NaN</td>\n",
              "      <td>5.000000</td>\n",
              "      <td>NaN</td>\n",
              "      <td>NaN</td>\n",
              "      <td>NaN</td>\n",
              "      <td>NaN</td>\n",
              "      <td>NaN</td>\n",
              "      <td>NaN</td>\n",
              "      <td>NaN</td>\n",
              "    </tr>\n",
              "    <tr>\n",
              "      <th>75%</th>\n",
              "      <td>156227.250000</td>\n",
              "      <td>7.599000e+04</td>\n",
              "      <td>NaN</td>\n",
              "      <td>NaN</td>\n",
              "      <td>NaN</td>\n",
              "      <td>NaN</td>\n",
              "      <td>NaN</td>\n",
              "      <td>NaN</td>\n",
              "      <td>2017.000000</td>\n",
              "      <td>2.060000e+05</td>\n",
              "      <td>...</td>\n",
              "      <td>NaN</td>\n",
              "      <td>NaN</td>\n",
              "      <td>5.000000</td>\n",
              "      <td>NaN</td>\n",
              "      <td>NaN</td>\n",
              "      <td>NaN</td>\n",
              "      <td>NaN</td>\n",
              "      <td>NaN</td>\n",
              "      <td>NaN</td>\n",
              "      <td>NaN</td>\n",
              "    </tr>\n",
              "    <tr>\n",
              "      <th>max</th>\n",
              "      <td>208303.000000</td>\n",
              "      <td>6.999000e+06</td>\n",
              "      <td>NaN</td>\n",
              "      <td>NaN</td>\n",
              "      <td>NaN</td>\n",
              "      <td>NaN</td>\n",
              "      <td>NaN</td>\n",
              "      <td>NaN</td>\n",
              "      <td>2021.000000</td>\n",
              "      <td>1.111111e+09</td>\n",
              "      <td>...</td>\n",
              "      <td>NaN</td>\n",
              "      <td>NaN</td>\n",
              "      <td>55.000000</td>\n",
              "      <td>NaN</td>\n",
              "      <td>NaN</td>\n",
              "      <td>NaN</td>\n",
              "      <td>NaN</td>\n",
              "      <td>NaN</td>\n",
              "      <td>NaN</td>\n",
              "      <td>NaN</td>\n",
              "    </tr>\n",
              "  </tbody>\n",
              "</table>\n",
              "<p>11 rows × 25 columns</p>\n",
              "</div>"
            ],
            "text/plain": [
              "                Index         Price Currency Condition Vehicle_brand  \\\n",
              "count   208304.000000  2.083040e+05   208304    208304        208304   \n",
              "unique            NaN           NaN        2         2           108   \n",
              "top               NaN           NaN      PLN      Used    Volkswagen   \n",
              "freq              NaN           NaN   208034    182850         18455   \n",
              "mean    104151.500000  6.305383e+04      NaN       NaN           NaN   \n",
              "std      60132.329574  8.665967e+04      NaN       NaN           NaN   \n",
              "min          0.000000  5.000000e+02      NaN       NaN           NaN   \n",
              "25%      52075.750000  1.780000e+04      NaN       NaN           NaN   \n",
              "50%     104151.500000  3.570000e+04      NaN       NaN           NaN   \n",
              "75%     156227.250000  7.599000e+04      NaN       NaN           NaN   \n",
              "max     208303.000000  6.999000e+06      NaN       NaN           NaN   \n",
              "\n",
              "       Vehicle_model Vehicle_version Vehicle_generation  Production_year  \\\n",
              "count         208304          138082             147860    208304.000000   \n",
              "unique          1203           19056                569              NaN   \n",
              "top            Astra         2.0 TDI         II (2012-)              NaN   \n",
              "freq            5302             888               3758              NaN   \n",
              "mean             NaN             NaN                NaN      2012.098241   \n",
              "std              NaN             NaN                NaN         6.998414   \n",
              "min              NaN             NaN                NaN      1915.000000   \n",
              "25%              NaN             NaN                NaN      2008.000000   \n",
              "50%              NaN             NaN                NaN      2013.000000   \n",
              "75%              NaN             NaN                NaN      2017.000000   \n",
              "max              NaN             NaN                NaN      2021.000000   \n",
              "\n",
              "          Mileage_km  ...  Transmission    Type   Doors_number  Colour  \\\n",
              "count   2.073210e+05  ...        207825  208304  206817.000000  208304   \n",
              "unique           NaN  ...             2       9            NaN      14   \n",
              "top              NaN  ...        Manual     SUV            NaN   black   \n",
              "freq             NaN  ...        132889   41587            NaN   50355   \n",
              "mean    1.502768e+05  ...           NaN     NaN       4.637138     NaN   \n",
              "std     2.937447e+06  ...           NaN     NaN       0.768559     NaN   \n",
              "min     1.000000e+00  ...           NaN     NaN       1.000000     NaN   \n",
              "25%     5.300000e+04  ...           NaN     NaN       5.000000     NaN   \n",
              "50%     1.445660e+05  ...           NaN     NaN       5.000000     NaN   \n",
              "75%     2.060000e+05  ...           NaN     NaN       5.000000     NaN   \n",
              "max     1.111111e+09  ...           NaN     NaN      55.000000     NaN   \n",
              "\n",
              "       Origin_country First_owner First_registration_date  \\\n",
              "count          118312       65094                   86445   \n",
              "unique             37           1                    8441   \n",
              "top            Poland         Yes              01/01/2017   \n",
              "freq            57127       65094                     216   \n",
              "mean              NaN         NaN                     NaN   \n",
              "std               NaN         NaN                     NaN   \n",
              "min               NaN         NaN                     NaN   \n",
              "25%               NaN         NaN                     NaN   \n",
              "50%               NaN         NaN                     NaN   \n",
              "75%               NaN         NaN                     NaN   \n",
              "max               NaN         NaN                     NaN   \n",
              "\n",
              "        Offer_publication_date                                 Offer_location  \\\n",
              "count                   208304                                         208304   \n",
              "unique                      41                                          13635   \n",
              "top                 03/05/2021  Stalowa 16 - 41-506 Chorzów, Śląskie (Polska)   \n",
              "freq                     26561                                           1329   \n",
              "mean                       NaN                                            NaN   \n",
              "std                        NaN                                            NaN   \n",
              "min                        NaN                                            NaN   \n",
              "25%                        NaN                                            NaN   \n",
              "50%                        NaN                                            NaN   \n",
              "75%                        NaN                                            NaN   \n",
              "max                        NaN                                            NaN   \n",
              "\n",
              "       Features  \n",
              "count    208304  \n",
              "unique   177211  \n",
              "top          []  \n",
              "freq      13337  \n",
              "mean        NaN  \n",
              "std         NaN  \n",
              "min         NaN  \n",
              "25%         NaN  \n",
              "50%         NaN  \n",
              "75%         NaN  \n",
              "max         NaN  \n",
              "\n",
              "[11 rows x 25 columns]"
            ]
          },
          "execution_count": 15,
          "metadata": {},
          "output_type": "execute_result"
        }
      ],
      "source": [
        "data.describe(include = 'all')"
      ]
    },
    {
      "cell_type": "markdown",
      "metadata": {
        "id": "bET7_whn1PlK"
      },
      "source": [
        "Выведем матрицу графиков рессеивания (запускать на свой стах и риск):"
      ]
    },
    {
      "cell_type": "code",
      "execution_count": 16,
      "metadata": {
        "id": "o5B3xIKG1PlK"
      },
      "outputs": [],
      "source": [
        "#from pandas.plotting import scatter_matrix\n",
        "#scatter_matrix(data, alpha = .01, figsize = (10, 10))\n",
        "#pass"
      ]
    },
    {
      "cell_type": "markdown",
      "metadata": {
        "id": "OuyzM8RK1PlL"
      },
      "source": [
        "Выведем матрицу корреляции наших численных признаков:"
      ]
    },
    {
      "cell_type": "code",
      "execution_count": 17,
      "metadata": {
        "colab": {
          "base_uri": "https://localhost:8080/",
          "height": 300
        },
        "id": "qMic-z0F1PlL",
        "outputId": "424c2f35-e033-40ac-b883-cfcb86bdda25"
      },
      "outputs": [
        {
          "name": "stderr",
          "output_type": "stream",
          "text": [
            "C:\\Users\\nick\\AppData\\Local\\Temp\\ipykernel_17784\\2627137660.py:1: FutureWarning: The default value of numeric_only in DataFrame.corr is deprecated. In a future version, it will default to False. Select only valid columns or specify the value of numeric_only to silence this warning.\n",
            "  data.corr()\n"
          ]
        },
        {
          "data": {
            "text/html": [
              "<div>\n",
              "<style scoped>\n",
              "    .dataframe tbody tr th:only-of-type {\n",
              "        vertical-align: middle;\n",
              "    }\n",
              "\n",
              "    .dataframe tbody tr th {\n",
              "        vertical-align: top;\n",
              "    }\n",
              "\n",
              "    .dataframe thead th {\n",
              "        text-align: right;\n",
              "    }\n",
              "</style>\n",
              "<table border=\"1\" class=\"dataframe\">\n",
              "  <thead>\n",
              "    <tr style=\"text-align: right;\">\n",
              "      <th></th>\n",
              "      <th>Index</th>\n",
              "      <th>Price</th>\n",
              "      <th>Production_year</th>\n",
              "      <th>Mileage_km</th>\n",
              "      <th>Power_HP</th>\n",
              "      <th>Displacement_cm3</th>\n",
              "      <th>CO2_emissions</th>\n",
              "      <th>Doors_number</th>\n",
              "    </tr>\n",
              "  </thead>\n",
              "  <tbody>\n",
              "    <tr>\n",
              "      <th>Index</th>\n",
              "      <td>1.000000</td>\n",
              "      <td>-0.106673</td>\n",
              "      <td>0.016147</td>\n",
              "      <td>0.002439</td>\n",
              "      <td>-0.230675</td>\n",
              "      <td>-0.206394</td>\n",
              "      <td>-0.003739</td>\n",
              "      <td>0.073687</td>\n",
              "    </tr>\n",
              "    <tr>\n",
              "      <th>Price</th>\n",
              "      <td>-0.106673</td>\n",
              "      <td>1.000000</td>\n",
              "      <td>0.441425</td>\n",
              "      <td>-0.017602</td>\n",
              "      <td>0.641298</td>\n",
              "      <td>0.362415</td>\n",
              "      <td>-0.001300</td>\n",
              "      <td>-0.034275</td>\n",
              "    </tr>\n",
              "    <tr>\n",
              "      <th>Production_year</th>\n",
              "      <td>0.016147</td>\n",
              "      <td>0.441425</td>\n",
              "      <td>1.000000</td>\n",
              "      <td>-0.040204</td>\n",
              "      <td>0.171774</td>\n",
              "      <td>-0.154144</td>\n",
              "      <td>-0.007817</td>\n",
              "      <td>0.252298</td>\n",
              "    </tr>\n",
              "    <tr>\n",
              "      <th>Mileage_km</th>\n",
              "      <td>0.002439</td>\n",
              "      <td>-0.017602</td>\n",
              "      <td>-0.040204</td>\n",
              "      <td>1.000000</td>\n",
              "      <td>-0.003567</td>\n",
              "      <td>0.006477</td>\n",
              "      <td>0.004679</td>\n",
              "      <td>-0.006830</td>\n",
              "    </tr>\n",
              "    <tr>\n",
              "      <th>Power_HP</th>\n",
              "      <td>-0.230675</td>\n",
              "      <td>0.641298</td>\n",
              "      <td>0.171774</td>\n",
              "      <td>-0.003567</td>\n",
              "      <td>1.000000</td>\n",
              "      <td>0.811457</td>\n",
              "      <td>0.012352</td>\n",
              "      <td>-0.139346</td>\n",
              "    </tr>\n",
              "    <tr>\n",
              "      <th>Displacement_cm3</th>\n",
              "      <td>-0.206394</td>\n",
              "      <td>0.362415</td>\n",
              "      <td>-0.154144</td>\n",
              "      <td>0.006477</td>\n",
              "      <td>0.811457</td>\n",
              "      <td>1.000000</td>\n",
              "      <td>0.020508</td>\n",
              "      <td>-0.197962</td>\n",
              "    </tr>\n",
              "    <tr>\n",
              "      <th>CO2_emissions</th>\n",
              "      <td>-0.003739</td>\n",
              "      <td>-0.001300</td>\n",
              "      <td>-0.007817</td>\n",
              "      <td>0.004679</td>\n",
              "      <td>0.012352</td>\n",
              "      <td>0.020508</td>\n",
              "      <td>1.000000</td>\n",
              "      <td>-0.004102</td>\n",
              "    </tr>\n",
              "    <tr>\n",
              "      <th>Doors_number</th>\n",
              "      <td>0.073687</td>\n",
              "      <td>-0.034275</td>\n",
              "      <td>0.252298</td>\n",
              "      <td>-0.006830</td>\n",
              "      <td>-0.139346</td>\n",
              "      <td>-0.197962</td>\n",
              "      <td>-0.004102</td>\n",
              "      <td>1.000000</td>\n",
              "    </tr>\n",
              "  </tbody>\n",
              "</table>\n",
              "</div>"
            ],
            "text/plain": [
              "                     Index     Price  Production_year  Mileage_km  Power_HP  \\\n",
              "Index             1.000000 -0.106673         0.016147    0.002439 -0.230675   \n",
              "Price            -0.106673  1.000000         0.441425   -0.017602  0.641298   \n",
              "Production_year   0.016147  0.441425         1.000000   -0.040204  0.171774   \n",
              "Mileage_km        0.002439 -0.017602        -0.040204    1.000000 -0.003567   \n",
              "Power_HP         -0.230675  0.641298         0.171774   -0.003567  1.000000   \n",
              "Displacement_cm3 -0.206394  0.362415        -0.154144    0.006477  0.811457   \n",
              "CO2_emissions    -0.003739 -0.001300        -0.007817    0.004679  0.012352   \n",
              "Doors_number      0.073687 -0.034275         0.252298   -0.006830 -0.139346   \n",
              "\n",
              "                  Displacement_cm3  CO2_emissions  Doors_number  \n",
              "Index                    -0.206394      -0.003739      0.073687  \n",
              "Price                     0.362415      -0.001300     -0.034275  \n",
              "Production_year          -0.154144      -0.007817      0.252298  \n",
              "Mileage_km                0.006477       0.004679     -0.006830  \n",
              "Power_HP                  0.811457       0.012352     -0.139346  \n",
              "Displacement_cm3          1.000000       0.020508     -0.197962  \n",
              "CO2_emissions             0.020508       1.000000     -0.004102  \n",
              "Doors_number             -0.197962      -0.004102      1.000000  "
            ]
          },
          "execution_count": 17,
          "metadata": {},
          "output_type": "execute_result"
        }
      ],
      "source": [
        "data.corr()"
      ]
    },
    {
      "cell_type": "markdown",
      "metadata": {
        "id": "UISSXN9b1PlL"
      },
      "source": [
        "Визуализируем данную матрицу корреляции:"
      ]
    },
    {
      "cell_type": "code",
      "execution_count": 18,
      "metadata": {
        "colab": {
          "base_uri": "https://localhost:8080/"
        },
        "id": "vmlbUBvd1PlL",
        "outputId": "b86fc804-2af0-45ff-84df-14d6f1130861"
      },
      "outputs": [
        {
          "name": "stderr",
          "output_type": "stream",
          "text": [
            "'c:\\Program' is not recognized as an internal or external command,\n",
            "operable program or batch file.\n"
          ]
        }
      ],
      "source": [
        "import sys\n",
        "!{sys.executable} -m pip install seaborn\n",
        "import seaborn as sns"
      ]
    },
    {
      "cell_type": "code",
      "execution_count": 19,
      "metadata": {
        "colab": {
          "base_uri": "https://localhost:8080/",
          "height": 371
        },
        "id": "V3jXzy-G1PlL",
        "outputId": "e11211bb-d39e-4c5a-8f29-afbad3544d2a"
      },
      "outputs": [
        {
          "name": "stderr",
          "output_type": "stream",
          "text": [
            "C:\\Users\\nick\\AppData\\Local\\Temp\\ipykernel_17784\\4293635737.py:1: FutureWarning: The default value of numeric_only in DataFrame.corr is deprecated. In a future version, it will default to False. Select only valid columns or specify the value of numeric_only to silence this warning.\n",
            "  corr_mat = data.corr()\n"
          ]
        },
        {
          "data": {
            "text/plain": [
              "<AxesSubplot: >"
            ]
          },
          "execution_count": 19,
          "metadata": {},
          "output_type": "execute_result"
        },
        {
          "data": {
            "image/png": "[encoded data removed]",
            "text/plain": [
              "<Figure size 640x480 with 2 Axes>"
            ]
          },
          "metadata": {},
          "output_type": "display_data"
        }
      ],
      "source": [
        "corr_mat = data.corr()\n",
        "sns.heatmap(corr_mat, square=True, fmt='.2f', vmin=-1, vmax=1, cmap='coolwarm')"
      ]
    },
    {
      "cell_type": "markdown",
      "metadata": {
        "id": "dkxZMrCOhkHd"
      },
      "source": [
        "По данной матрице можно сделать вывод, что общая корреляция данных мала"
      ]
    },
    {
      "cell_type": "markdown",
      "metadata": {
        "id": "UC0b14EV1PlL"
      },
      "source": [
        "Визуализируем некоторые графики корреляции:"
      ]
    },
    {
      "cell_type": "code",
      "execution_count": 20,
      "metadata": {
        "colab": {
          "base_uri": "https://localhost:8080/",
          "height": 296
        },
        "id": "aF4BZrwe1PlM",
        "outputId": "d0cae5ae-7679-4e5d-bfde-27345c5bf204"
      },
      "outputs": [
        {
          "data": {
            "image/png": "[encoded data removed]",
            "text/plain": [
              "<Figure size 640x480 with 1 Axes>"
            ]
          },
          "metadata": {},
          "output_type": "display_data"
        }
      ],
      "source": [
        "plt.plot(data['Power_HP'], data['Price'], 'o', alpha = 0.05)\n",
        "plt.xlabel('Power_HP')\n",
        "plt.ylabel('Price')\n",
        "plt.title('Power_HP vs Price')\n",
        "pass"
      ]
    },
    {
      "cell_type": "code",
      "execution_count": 21,
      "metadata": {
        "colab": {
          "base_uri": "https://localhost:8080/",
          "height": 296
        },
        "id": "qeT5ecfG1PlM",
        "outputId": "dc0a0177-f3fa-4517-9cfe-b08ba6ee1cc2"
      },
      "outputs": [
        {
          "data": {
            "image/png": "[encoded data removed]",
            "text/plain": [
              "<Figure size 640x480 with 1 Axes>"
            ]
          },
          "metadata": {},
          "output_type": "display_data"
        }
      ],
      "source": [
        "plt.plot(data['Displacement_cm3'], data['Power_HP'], 'o', alpha = 0.05)\n",
        "plt.xlabel('Displacement_cm3')\n",
        "plt.ylabel('Power_HP')\n",
        "plt.title('Displacement_cm3 vs Power_HP')\n",
        "pass"
      ]
    },
    {
      "cell_type": "code",
      "execution_count": 22,
      "metadata": {
        "colab": {
          "base_uri": "https://localhost:8080/",
          "height": 296
        },
        "id": "O6RnGd5x1PlM",
        "outputId": "8ef51b02-355f-48e7-ef43-475fcfbb134d"
      },
      "outputs": [
        {
          "data": {
            "image/png": "[encoded data removed]",
            "text/plain": [
              "<Figure size 640x480 with 1 Axes>"
            ]
          },
          "metadata": {},
          "output_type": "display_data"
        }
      ],
      "source": [
        "plt.plot(data['Production_year'], data['Price'], 'o', alpha = 0.25)\n",
        "plt.xlabel('Production_year')\n",
        "plt.ylabel('Price')\n",
        "plt.title('Production_year vs Price')\n",
        "pass"
      ]
    },
    {
      "cell_type": "code",
      "execution_count": 23,
      "metadata": {
        "colab": {
          "base_uri": "https://localhost:8080/",
          "height": 296
        },
        "id": "ddQdFTZ-1PlM",
        "outputId": "a69fdc62-a792-474e-8aef-b6c31ebda9fc"
      },
      "outputs": [
        {
          "data": {
            "image/png": "[encoded data removed]",
            "text/plain": [
              "<Figure size 640x480 with 1 Axes>"
            ]
          },
          "metadata": {},
          "output_type": "display_data"
        }
      ],
      "source": [
        "plt.plot(data['Production_year'], data['Doors_number'], 'o', alpha = 0.25)\n",
        "plt.xlabel('Production_year')\n",
        "plt.ylabel('Doors_number')\n",
        "plt.title('Production_year vs Doors_number')\n",
        "pass"
      ]
    },
    {
      "cell_type": "markdown",
      "metadata": {
        "id": "9vcia7eC1PlM"
      },
      "source": [
        "Выведем уникальные значения для некоторых нечисловых признаков:"
      ]
    },
    {
      "cell_type": "code",
      "execution_count": 24,
      "metadata": {
        "colab": {
          "base_uri": "https://localhost:8080/"
        },
        "id": "GREPnzrs1PlM",
        "outputId": "82d00459-13cc-4490-8a6d-4d7d0b7bd00a"
      },
      "outputs": [
        {
          "data": {
            "text/plain": [
              "array(['595', 'Other', '500', ..., 'GAZ-21', '1100', '750'], dtype=object)"
            ]
          },
          "execution_count": 24,
          "metadata": {},
          "output_type": "execute_result"
        }
      ],
      "source": [
        "data['Vehicle_model'].unique()"
      ]
    },
    {
      "cell_type": "code",
      "execution_count": 25,
      "metadata": {
        "colab": {
          "base_uri": "https://localhost:8080/"
        },
        "id": "BM8Zeazr1PlN",
        "outputId": "d08df48b-b0aa-4f5a-8e70-9a0f19b5d4c4"
      },
      "outputs": [
        {
          "data": {
            "text/plain": [
              "array([2021, 1974, 2018, 2012, 2016, 2019, 2010, 2017, 2015, 2014, 2020,\n",
              "       2009, 2013, 2011, 2008, 2003, 2007, 2000, 2005, 2004, 2002, 1999,\n",
              "       2001, 2006, 1994, 1998, 1997, 1991, 1995, 1993, 1973, 1971, 1990,\n",
              "       1987, 1992, 1996, 1983, 1979, 1986, 1989, 1970, 1984, 1988, 1980,\n",
              "       1978, 1985, 1982, 1977, 1975, 1976, 1968, 1950, 1981, 1964, 1969,\n",
              "       1965, 1958, 1959, 1967, 1961, 1966, 1957, 1972, 1956, 1947, 1960,\n",
              "       1949, 1962, 1934, 1930, 1952, 1953, 1922, 1954, 1963, 1955, 1926,\n",
              "       1923, 1925, 1938, 1945, 1915, 1924, 1928, 1951, 1936, 1948, 1937,\n",
              "       1946, 1927, 1935, 1933], dtype=int64)"
            ]
          },
          "execution_count": 25,
          "metadata": {},
          "output_type": "execute_result"
        }
      ],
      "source": [
        "data['Production_year'].unique()"
      ]
    },
    {
      "cell_type": "markdown",
      "metadata": {
        "id": "8KbIItL61PlN"
      },
      "source": [
        "## Готовим данные"
      ]
    },
    {
      "cell_type": "markdown",
      "metadata": {
        "id": "mlkvCkCof1wy"
      },
      "source": [
        "**Частично произведем обработку данных и выделим категориальные признаки**"
      ]
    },
    {
      "cell_type": "code",
      "execution_count": 26,
      "metadata": {
        "colab": {
          "base_uri": "https://localhost:8080/"
        },
        "id": "7ZcLfCHbf3Gm",
        "outputId": "dcdf8c82-7870-47c5-d391-3b05b06ea7dc"
      },
      "outputs": [
        {
          "data": {
            "text/plain": [
              "Index                        int64\n",
              "Price                        int64\n",
              "Currency                    object\n",
              "Condition                   object\n",
              "Vehicle_brand               object\n",
              "Vehicle_model               object\n",
              "Vehicle_version             object\n",
              "Vehicle_generation          object\n",
              "Production_year              int64\n",
              "Mileage_km                 float64\n",
              "Power_HP                   float64\n",
              "Displacement_cm3           float64\n",
              "Fuel_type                   object\n",
              "CO2_emissions              float64\n",
              "Drive                       object\n",
              "Transmission                object\n",
              "Type                        object\n",
              "Doors_number               float64\n",
              "Colour                      object\n",
              "Origin_country              object\n",
              "First_owner                 object\n",
              "First_registration_date     object\n",
              "Offer_publication_date      object\n",
              "Offer_location              object\n",
              "Features                    object\n",
              "dtype: object"
            ]
          },
          "execution_count": 26,
          "metadata": {},
          "output_type": "execute_result"
        }
      ],
      "source": [
        "data.dtypes"
      ]
    },
    {
      "cell_type": "code",
      "execution_count": 27,
      "metadata": {
        "id": "5mGJZ5tlf4ix"
      },
      "outputs": [],
      "source": [
        "data['Condition'] = data['Condition'].astype('category')\n",
        "data['Vehicle_brand'] = data['Vehicle_brand'].astype('category')\n",
        "data['Fuel_type'] = data['Fuel_type'].astype('category')\n",
        "data['Drive'] = data['Drive'].astype('category')\n",
        "data['Transmission'] = data['Transmission'].astype('category')\n",
        "data['Type'] = data['Type'].astype('category')\n",
        "data['Colour'] = data['Colour'].astype('category')\n",
        "data['Origin_country'] = data['Origin_country'].astype('category')"
      ]
    },
    {
      "cell_type": "code",
      "execution_count": 28,
      "metadata": {
        "colab": {
          "base_uri": "https://localhost:8080/"
        },
        "id": "pl_DAQsMf5zL",
        "outputId": "cb799dd5-d834-4f02-be2d-ef24da3e2677"
      },
      "outputs": [
        {
          "data": {
            "text/plain": [
              "<bound method Series.unique of 0            NaN\n",
              "1            NaN\n",
              "2            NaN\n",
              "3            NaN\n",
              "4            NaN\n",
              "           ...  \n",
              "208299       NaN\n",
              "208300       NaN\n",
              "208301    1977.0\n",
              "208302       NaN\n",
              "208303       NaN\n",
              "Name: First_registration_date, Length: 208304, dtype: float64>"
            ]
          },
          "execution_count": 28,
          "metadata": {},
          "output_type": "execute_result"
        }
      ],
      "source": [
        "data['First_registration_date'] = data['First_registration_date'].str[-4:]\n",
        "data['First_registration_date'] = data['First_registration_date'].astype('float')\n",
        "data['First_registration_date'].unique"
      ]
    },
    {
      "cell_type": "markdown",
      "metadata": {
        "id": "evBuzPDYf7az"
      },
      "source": [
        "Избавимся от неинтересных нам колонок"
      ]
    },
    {
      "cell_type": "code",
      "execution_count": 29,
      "metadata": {
        "id": "NT-ygKuff66t"
      },
      "outputs": [],
      "source": [
        "del data['Features']\n",
        "del data['Currency']\n",
        "del data['Vehicle_model']\n",
        "del data['Vehicle_version']\n",
        "del data['Vehicle_generation']\n",
        "del data['First_owner']\n",
        "del data['Offer_location']\n",
        "del data['Offer_publication_date']\n",
        "del data['Origin_country']"
      ]
    },
    {
      "cell_type": "markdown",
      "metadata": {
        "id": "4RHpmkoDgArR"
      },
      "source": [
        "**Обработка пропущенных значений**"
      ]
    },
    {
      "cell_type": "code",
      "execution_count": 30,
      "metadata": {
        "colab": {
          "base_uri": "https://localhost:8080/"
        },
        "id": "cIHvWslZgDmm",
        "outputId": "e4a80d36-f746-4542-8c70-a3f4732b061e"
      },
      "outputs": [
        {
          "data": {
            "text/plain": [
              "Index                           0\n",
              "Price                           0\n",
              "Condition                       0\n",
              "Vehicle_brand                   0\n",
              "Production_year                 0\n",
              "Mileage_km                    983\n",
              "Power_HP                      643\n",
              "Displacement_cm3             1966\n",
              "Fuel_type                       0\n",
              "CO2_emissions              114257\n",
              "Drive                       15076\n",
              "Transmission                  479\n",
              "Type                            0\n",
              "Doors_number                 1487\n",
              "Colour                          0\n",
              "First_registration_date    121859\n",
              "dtype: int64"
            ]
          },
          "execution_count": 30,
          "metadata": {},
          "output_type": "execute_result"
        }
      ],
      "source": [
        "data.isna().sum()"
      ]
    },
    {
      "cell_type": "markdown",
      "metadata": {
        "id": "dCzXmjwzgFZQ"
      },
      "source": [
        "Удалим строки, в которых содержится малое количество незаполненных значений"
      ]
    },
    {
      "cell_type": "code",
      "execution_count": 31,
      "metadata": {
        "id": "NAOVT24vgHGL"
      },
      "outputs": [],
      "source": [
        "data_na = data.copy()\n",
        "data_na.drop_duplicates(subset='Index', inplace=True)\n",
        "data_na.dropna(axis=0, how=\"all\", subset=['Mileage_km'], inplace=True)\n",
        "data_na.dropna(axis=0, how=\"all\", subset=['Power_HP'], inplace=True)\n",
        "data_na.dropna(axis=0, how=\"all\", subset=['Displacement_cm3'], inplace=True)\n",
        "data_na.dropna(axis=0, how=\"all\", subset=['Drive'], inplace=True)\n",
        "data_na.dropna(axis=0, how=\"all\", subset=['Transmission'], inplace=True)\n",
        "data_na.dropna(axis=0, how=\"all\", subset=['Doors_number'], inplace=True)"
      ]
    },
    {
      "cell_type": "code",
      "execution_count": 32,
      "metadata": {
        "colab": {
          "base_uri": "https://localhost:8080/"
        },
        "id": "oBDrOKDlgIeM",
        "outputId": "9361912e-3c0e-4a0b-c65c-20e17a887a04"
      },
      "outputs": [
        {
          "data": {
            "text/plain": [
              "Index                           0\n",
              "Price                           0\n",
              "Condition                       0\n",
              "Vehicle_brand                   0\n",
              "Production_year                 0\n",
              "Mileage_km                      0\n",
              "Power_HP                        0\n",
              "Displacement_cm3                0\n",
              "Fuel_type                       0\n",
              "CO2_emissions               96295\n",
              "Drive                           0\n",
              "Transmission                    0\n",
              "Type                            0\n",
              "Doors_number                    0\n",
              "Colour                          0\n",
              "First_registration_date    107327\n",
              "dtype: int64"
            ]
          },
          "execution_count": 32,
          "metadata": {},
          "output_type": "execute_result"
        }
      ],
      "source": [
        "data_na.isna().sum()"
      ]
    },
    {
      "cell_type": "markdown",
      "metadata": {
        "id": "7E1f4TA-gJvf"
      },
      "source": [
        "**Избавляемся от выбросов**"
      ]
    },
    {
      "cell_type": "markdown",
      "metadata": {
        "id": "c1yArUnfgLxy"
      },
      "source": [
        "Для начала построим графики зависимостей, чтобы оценить количество выбросов"
      ]
    },
    {
      "cell_type": "code",
      "execution_count": 33,
      "metadata": {
        "colab": {
          "base_uri": "https://localhost:8080/",
          "height": 297
        },
        "id": "NYtZdVT3gNcD",
        "outputId": "c00e1810-4ebe-46e5-943b-483cc9c4b238"
      },
      "outputs": [
        {
          "data": {
            "text/plain": [
              "Text(0, 0.5, 'Condition')"
            ]
          },
          "execution_count": 33,
          "metadata": {},
          "output_type": "execute_result"
        },
        {
          "data": {
            "image/png": "[encoded data removed]",
            "text/plain": [
              "<Figure size 640x480 with 1 Axes>"
            ]
          },
          "metadata": {},
          "output_type": "display_data"
        }
      ],
      "source": [
        "plt.scatter(data_na['Mileage_km'], data_na['Condition'])\n",
        "plt.xlabel('Mileage_km')\n",
        "plt.ylabel('Condition')"
      ]
    },
    {
      "cell_type": "code",
      "execution_count": 34,
      "metadata": {
        "colab": {
          "base_uri": "https://localhost:8080/",
          "height": 296
        },
        "id": "5p-eIjCygPQN",
        "outputId": "e7e538fa-68f9-45ff-d2f5-988af2643adc"
      },
      "outputs": [
        {
          "data": {
            "text/plain": [
              "Text(0, 0.5, 'Vehicle_brand')"
            ]
          },
          "execution_count": 34,
          "metadata": {},
          "output_type": "execute_result"
        },
        {
          "data": {
            "image/png": "[encoded data removed]",
            "text/plain": [
              "<Figure size 640x480 with 1 Axes>"
            ]
          },
          "metadata": {},
          "output_type": "display_data"
        }
      ],
      "source": [
        "plt.scatter(data_na['Price'], data_na['Vehicle_brand'])\n",
        "plt.xlabel('Price')\n",
        "plt.ylabel('Vehicle_brand')"
      ]
    },
    {
      "cell_type": "code",
      "execution_count": 35,
      "metadata": {
        "colab": {
          "base_uri": "https://localhost:8080/",
          "height": 308
        },
        "id": "uGp3-LMlgQRk",
        "outputId": "19cf99f8-3d66-48d5-a931-5c64f7bdba62"
      },
      "outputs": [
        {
          "data": {
            "text/plain": [
              "Text(0, 0.5, 'Mileage_km')"
            ]
          },
          "execution_count": 35,
          "metadata": {},
          "output_type": "execute_result"
        },
        {
          "data": {
            "image/png": "[encoded data removed]",
            "text/plain": [
              "<Figure size 640x480 with 1 Axes>"
            ]
          },
          "metadata": {},
          "output_type": "display_data"
        }
      ],
      "source": [
        "plt.scatter(data_na['Production_year'], data_na['Mileage_km'])\n",
        "plt.xlabel('Production_year')\n",
        "plt.ylabel('Mileage_km')"
      ]
    },
    {
      "cell_type": "code",
      "execution_count": 36,
      "metadata": {
        "colab": {
          "base_uri": "https://localhost:8080/",
          "height": 308
        },
        "id": "xTxPwWfngRUk",
        "outputId": "1fc532f2-9035-4bca-8523-e5b28b2e18fb"
      },
      "outputs": [
        {
          "data": {
            "text/plain": [
              "Text(0, 0.5, 'CO2_emissions')"
            ]
          },
          "execution_count": 36,
          "metadata": {},
          "output_type": "execute_result"
        },
        {
          "data": {
            "image/png": "[encoded data removed]",
            "text/plain": [
              "<Figure size 640x480 with 1 Axes>"
            ]
          },
          "metadata": {},
          "output_type": "display_data"
        }
      ],
      "source": [
        "plt.scatter(data_na['Production_year'], data_na['CO2_emissions'])\n",
        "plt.xlabel('Production_year')\n",
        "plt.ylabel('CO2_emissions')"
      ]
    },
    {
      "cell_type": "code",
      "execution_count": 37,
      "metadata": {
        "colab": {
          "base_uri": "https://localhost:8080/",
          "height": 301
        },
        "id": "EpUxRBjXgSb4",
        "outputId": "310d0ad5-467a-46d1-f9f1-5228004de4e5"
      },
      "outputs": [
        {
          "data": {
            "text/plain": [
              "Text(0, 0.5, 'First_registration_date')"
            ]
          },
          "execution_count": 37,
          "metadata": {},
          "output_type": "execute_result"
        },
        {
          "data": {
            "image/png": "[encoded data removed]",
            "text/plain": [
              "<Figure size 640x480 with 1 Axes>"
            ]
          },
          "metadata": {},
          "output_type": "display_data"
        }
      ],
      "source": [
        "plt.scatter(data_na['Production_year'], data_na['First_registration_date'])\n",
        "plt.xlabel('Production_year')\n",
        "plt.ylabel('First_registration_date')"
      ]
    },
    {
      "cell_type": "code",
      "execution_count": 38,
      "metadata": {
        "colab": {
          "base_uri": "https://localhost:8080/",
          "height": 297
        },
        "id": "deOh28AugTaO",
        "outputId": "058524a9-80d8-4f71-c7dd-67ed221ae6b7"
      },
      "outputs": [
        {
          "data": {
            "text/plain": [
              "Text(0, 0.5, 'Type')"
            ]
          },
          "execution_count": 38,
          "metadata": {},
          "output_type": "execute_result"
        },
        {
          "data": {
            "image/png": "[encoded data removed]",
            "text/plain": [
              "<Figure size 640x480 with 1 Axes>"
            ]
          },
          "metadata": {},
          "output_type": "display_data"
        }
      ],
      "source": [
        "plt.scatter(data_na['Doors_number'], data_na['Type'])\n",
        "plt.xlabel('Doors_number')\n",
        "plt.ylabel('Type')"
      ]
    },
    {
      "cell_type": "code",
      "execution_count": 39,
      "metadata": {
        "colab": {
          "base_uri": "https://localhost:8080/",
          "height": 297
        },
        "id": "nxZdx2PkgUZ-",
        "outputId": "f8dbe4d4-f04d-4bb7-a6ba-72c2b376d617"
      },
      "outputs": [
        {
          "data": {
            "text/plain": [
              "Text(0, 0.5, 'Power_HP')"
            ]
          },
          "execution_count": 39,
          "metadata": {},
          "output_type": "execute_result"
        },
        {
          "data": {
            "image/png": "[encoded data removed]",
            "text/plain": [
              "<Figure size 640x480 with 1 Axes>"
            ]
          },
          "metadata": {},
          "output_type": "display_data"
        }
      ],
      "source": [
        "plt.scatter(data_na['Displacement_cm3'], data_na['Power_HP'])\n",
        "plt.xlabel('Displacement_cm3')\n",
        "plt.ylabel('Power_HP')"
      ]
    },
    {
      "cell_type": "code",
      "execution_count": 40,
      "metadata": {
        "colab": {
          "base_uri": "https://localhost:8080/"
        },
        "id": "OIWboeiAgVdU",
        "outputId": "bcb04114-206f-4b33-9c76-18661db484df"
      },
      "outputs": [
        {
          "data": {
            "text/plain": [
              "0.05       6950.0\n",
              "0.10       9900.0\n",
              "0.20      15600.0\n",
              "0.30      20900.0\n",
              "0.40      27800.0\n",
              "0.50      36500.0\n",
              "0.70      65900.0\n",
              "0.90     142800.0\n",
              "0.95     199900.0\n",
              "1.00    6999000.0\n",
              "Name: Price, dtype: float64"
            ]
          },
          "execution_count": 40,
          "metadata": {},
          "output_type": "execute_result"
        }
      ],
      "source": [
        "data_na['Price'].quantile([.05,.1,.2,.3,.4,.50,.70, .90, .95, 1])"
      ]
    },
    {
      "cell_type": "code",
      "execution_count": 41,
      "metadata": {
        "colab": {
          "base_uri": "https://localhost:8080/"
        },
        "id": "GLaX9ItdgWy6",
        "outputId": "8de329b3-981e-4f63-8b3f-4089b01d5a76"
      },
      "outputs": [
        {
          "data": {
            "text/plain": [
              "0.005           1.0\n",
              "0.100           9.0\n",
              "0.200       29000.0\n",
              "0.300       74000.0\n",
              "0.400      112000.0\n",
              "0.500      143000.0\n",
              "0.700      192000.0\n",
              "0.800      220000.0\n",
              "0.900      259000.0\n",
              "0.950      292484.6\n",
              "0.960      301000.0\n",
              "0.980      335000.0\n",
              "1.000    11111111.0\n",
              "Name: Mileage_km, dtype: float64"
            ]
          },
          "execution_count": 41,
          "metadata": {},
          "output_type": "execute_result"
        }
      ],
      "source": [
        "data_na['Mileage_km'].quantile([.005,.1,.2,.3,.4,.50,.70, .8, .90, .95, .96, .98, 1])"
      ]
    },
    {
      "cell_type": "code",
      "execution_count": 42,
      "metadata": {
        "colab": {
          "base_uri": "https://localhost:8080/"
        },
        "id": "K-wrVhvJgYXy",
        "outputId": "d5e41586-4b21-4cbf-9be7-8e377fe90aee"
      },
      "outputs": [
        {
          "data": {
            "text/plain": [
              "0.05     3.0\n",
              "0.10     4.0\n",
              "0.20     4.0\n",
              "0.30     5.0\n",
              "0.40     5.0\n",
              "0.50     5.0\n",
              "0.70     5.0\n",
              "0.90     5.0\n",
              "0.95     5.0\n",
              "0.98     5.0\n",
              "1.00    55.0\n",
              "Name: Doors_number, dtype: float64"
            ]
          },
          "execution_count": 42,
          "metadata": {},
          "output_type": "execute_result"
        }
      ],
      "source": [
        "data_na['Doors_number'].quantile([.05,.1,.2,.3,.4,.50,.70, .90, .95, .98, 1])"
      ]
    },
    {
      "cell_type": "code",
      "execution_count": 43,
      "metadata": {
        "colab": {
          "base_uri": "https://localhost:8080/"
        },
        "id": "2D6AbcnXgZZD",
        "outputId": "89fef730-3ba4-4197-dde4-2053d54e2b6b"
      },
      "outputs": [
        {
          "data": {
            "text/plain": [
              "0.05    9.900000e+01\n",
              "0.10    1.070000e+02\n",
              "0.20    1.170000e+02\n",
              "0.30    1.240000e+02\n",
              "0.40    1.340000e+02\n",
              "0.50    1.400000e+02\n",
              "0.70    1.580000e+02\n",
              "0.90    1.940000e+02\n",
              "0.95    2.220000e+02\n",
              "0.98    2.600000e+02\n",
              "1.00    2.000000e+10\n",
              "Name: CO2_emissions, dtype: float64"
            ]
          },
          "execution_count": 43,
          "metadata": {},
          "output_type": "execute_result"
        }
      ],
      "source": [
        "data_na['CO2_emissions'].quantile([.05,.1,.2,.3,.4,.50,.70, .90, .95, .98, 1])"
      ]
    },
    {
      "cell_type": "markdown",
      "metadata": {
        "id": "Fyeuv2ywgagE"
      },
      "source": [
        "Избавимся от строк с большими: ценой, пробегом, количеством дверей и выбросами CO2. Также удалим столбец с датой первой регистрации, т.к. имеется много некорректных данных."
      ]
    },
    {
      "cell_type": "code",
      "execution_count": 44,
      "metadata": {
        "colab": {
          "base_uri": "https://localhost:8080/"
        },
        "id": "zXxo0Em-gcS5",
        "outputId": "16e9239b-5eeb-4328-f94d-1d0eb05704db"
      },
      "outputs": [
        {
          "data": {
            "text/plain": [
              "(186687, 16)"
            ]
          },
          "execution_count": 44,
          "metadata": {},
          "output_type": "execute_result"
        }
      ],
      "source": [
        "rows_to_drop = data_na[\n",
        "    (data_na['Price'] > data_na['Price'].quantile(0.995)) | (data_na['Mileage_km'] > 100) & (data_na['Condition'] == \"New\") | \n",
        "    (data_na['Mileage_km'] > data_na['Mileage_km'].quantile(0.995)) | \n",
        "    (data_na['Doors_number'] > data_na['Doors_number'].quantile(0.995)) | \n",
        "    (data_na['CO2_emissions'] > data_na['CO2_emissions'].quantile(0.995))].index\n",
        "data_na = data_na.drop(rows_to_drop)\n",
        "data_na.shape"
      ]
    },
    {
      "cell_type": "code",
      "execution_count": 45,
      "metadata": {
        "id": "50GGLchXgdRF"
      },
      "outputs": [],
      "source": [
        "del data_na['First_registration_date']"
      ]
    },
    {
      "cell_type": "markdown",
      "metadata": {
        "id": "Q6CliH8Rgfm4"
      },
      "source": [
        "После избавления от выбросов можем заполнить некоторые пропущенные значения средним."
      ]
    },
    {
      "cell_type": "code",
      "execution_count": 46,
      "metadata": {
        "colab": {
          "base_uri": "https://localhost:8080/"
        },
        "id": "-6NpseQkgeiq",
        "outputId": "01dbb35b-1995-4220-e18f-fb7069e618b3"
      },
      "outputs": [
        {
          "data": {
            "text/plain": [
              "Index                   0\n",
              "Price                   0\n",
              "Condition               0\n",
              "Vehicle_brand           0\n",
              "Production_year         0\n",
              "Mileage_km              0\n",
              "Power_HP                0\n",
              "Displacement_cm3        0\n",
              "Fuel_type               0\n",
              "CO2_emissions       94659\n",
              "Drive                   0\n",
              "Transmission            0\n",
              "Type                    0\n",
              "Doors_number            0\n",
              "Colour                  0\n",
              "dtype: int64"
            ]
          },
          "execution_count": 46,
          "metadata": {},
          "output_type": "execute_result"
        }
      ],
      "source": [
        "data_na.isna().sum()"
      ]
    },
    {
      "cell_type": "markdown",
      "metadata": {
        "id": "zDSv0exdgsVO"
      },
      "source": [
        "Т. к. пропущенных значений все так же много, то заполним их при помощи медианны."
      ]
    },
    {
      "cell_type": "code",
      "execution_count": 47,
      "metadata": {
        "colab": {
          "base_uri": "https://localhost:8080/"
        },
        "id": "CA4Yj2B5gtVg",
        "outputId": "82dbfaed-edda-403c-a849-449eebed32c7"
      },
      "outputs": [
        {
          "data": {
            "text/plain": [
              "Index               0\n",
              "Price               0\n",
              "Condition           0\n",
              "Vehicle_brand       0\n",
              "Production_year     0\n",
              "Mileage_km          0\n",
              "Power_HP            0\n",
              "Displacement_cm3    0\n",
              "Fuel_type           0\n",
              "CO2_emissions       0\n",
              "Drive               0\n",
              "Transmission        0\n",
              "Type                0\n",
              "Doors_number        0\n",
              "Colour              0\n",
              "dtype: int64"
            ]
          },
          "execution_count": 47,
          "metadata": {},
          "output_type": "execute_result"
        }
      ],
      "source": [
        "col = [\"CO2_emissions\"]\n",
        "data_na.fillna(data_na[col].median(axis = 0), axis=0 , inplace=True)\n",
        "data_na.isna().sum()"
      ]
    },
    {
      "cell_type": "markdown",
      "metadata": {
        "id": "e0illgpPg387"
      },
      "source": [
        "**Обработка категориальных признаков**"
      ]
    },
    {
      "cell_type": "code",
      "execution_count": 48,
      "metadata": {
        "colab": {
          "base_uri": "https://localhost:8080/"
        },
        "id": "dSAhtT6rg7fH",
        "outputId": "a8ea379b-f3a8-4054-b48e-08814d8a57a2"
      },
      "outputs": [
        {
          "data": {
            "text/plain": [
              "['Abarth', 'Acura', 'Aixam', 'Alfa Romeo', 'Alpine', ..., 'Tesla', 'Triumph', 'Vanderhall', 'Wartburg', 'Wołga']\n",
              "Length: 102\n",
              "Categories (108, object): ['Abarth', 'Acura', 'Aixam', 'Alfa Romeo', ..., 'Zaporożec', 'Zastava', 'Škoda', 'Żuk']"
            ]
          },
          "execution_count": 48,
          "metadata": {},
          "output_type": "execute_result"
        }
      ],
      "source": [
        "data_na['Vehicle_brand'].unique()"
      ]
    },
    {
      "cell_type": "markdown",
      "metadata": {
        "id": "E4TelvO9g9CW"
      },
      "source": [
        "Слишком много категорий, лучше будет отказаться от данного признака."
      ]
    },
    {
      "cell_type": "code",
      "execution_count": 49,
      "metadata": {
        "id": "MEp6MMRdg-H4"
      },
      "outputs": [],
      "source": [
        "del data_na['Vehicle_brand']"
      ]
    },
    {
      "cell_type": "markdown",
      "metadata": {
        "id": "PIvjFjeug_35"
      },
      "source": [
        "К категориальным признакам 'Drive', 'Fuel_type', 'Colour' применим метод бинаризации."
      ]
    },
    {
      "cell_type": "code",
      "execution_count": 50,
      "metadata": {
        "id": "nnwuv0XbhA3c"
      },
      "outputs": [],
      "source": [
        "d1 = pd.get_dummies(data_na['Drive'])\n",
        "d3 = pd.get_dummies(data_na['Colour'])\n",
        "d6 = pd.get_dummies(data_na['Fuel_type'])"
      ]
    },
    {
      "cell_type": "code",
      "execution_count": 51,
      "metadata": {
        "colab": {
          "base_uri": "https://localhost:8080/"
        },
        "id": "_Im1h-yAhB4C",
        "outputId": "904f7f37-ed31-468b-d8a0-03d83c41ffde"
      },
      "outputs": [
        {
          "data": {
            "text/plain": [
              "['small_cars', 'coupe', 'city_cars', 'convertible', 'compact', 'SUV', 'sedan', 'station_wagon', 'minivan']\n",
              "Categories (9, object): ['SUV', 'city_cars', 'compact', 'convertible', ..., 'minivan', 'sedan', 'small_cars', 'station_wagon']"
            ]
          },
          "execution_count": 51,
          "metadata": {},
          "output_type": "execute_result"
        }
      ],
      "source": [
        "data_na['Type'].unique()"
      ]
    },
    {
      "cell_type": "code",
      "execution_count": 52,
      "metadata": {
        "colab": {
          "base_uri": "https://localhost:8080/"
        },
        "id": "ty57qavHhDBI",
        "outputId": "7d43f608-7d1f-4851-cd0a-8f792d6bf7e5"
      },
      "outputs": [
        {
          "data": {
            "text/plain": [
              "0         9\n",
              "1         1\n",
              "3         9\n",
              "5         9\n",
              "7         9\n",
              "         ..\n",
              "208284    6\n",
              "208287    6\n",
              "208294    4\n",
              "208296    9\n",
              "208300    7\n",
              "Name: Type, Length: 186687, dtype: int32"
            ]
          },
          "execution_count": 52,
          "metadata": {},
          "output_type": "execute_result"
        }
      ],
      "source": [
        "d2 = data_na['Type'].replace(\"small_cars\",9).replace(\"coupe\",1).replace(\"city_cars\",\n",
        "    2).replace(\"convertible\",3).replace(\"compact\",4).replace(\"SUV\",5).replace(\"sedan\",6).replace(\"station_wagon\",\n",
        "                                                                        7).replace(\"minivan\",8)\n",
        "d2.astype('int')"
      ]
    },
    {
      "cell_type": "markdown",
      "metadata": {
        "id": "baqA4uc3hERn"
      },
      "source": [
        "Остальные признаки заменим на числовые"
      ]
    },
    {
      "cell_type": "code",
      "execution_count": 53,
      "metadata": {
        "id": "WHFoi6CvhFbU"
      },
      "outputs": [],
      "source": [
        "data_na['Condition'] = pd.factorize(data_na['Condition'])[0]\n",
        "data_na['Transmission'] = pd.factorize(data_na['Transmission'])[0]\n",
        "d4 = data_na['Condition']\n",
        "d5 = data_na['Transmission']\n",
        "data_na = data_na.drop(['Type', 'Fuel_type', 'Drive', 'Colour', 'Condition', 'Transmission'], axis=1)"
      ]
    },
    {
      "cell_type": "markdown",
      "metadata": {
        "id": "-BvS1onShHXf"
      },
      "source": [
        "**Нормализация**"
      ]
    },
    {
      "cell_type": "markdown",
      "metadata": {
        "id": "CnUWJ_3XhKho"
      },
      "source": [
        "Нормализация числовых признаков выполняется путем линейного преобразования диапазона каждого из значений к отрезку [0; 1]."
      ]
    },
    {
      "cell_type": "code",
      "execution_count": 54,
      "metadata": {
        "id": "fNBIk-yahLfN"
      },
      "outputs": [],
      "source": [
        "data_na = (data_na - data_na.min(axis=0)) / (data_na.max(axis=0) - data_na.min(axis=0))"
      ]
    },
    {
      "cell_type": "code",
      "execution_count": 55,
      "metadata": {
        "colab": {
          "base_uri": "https://localhost:8080/",
          "height": 522
        },
        "id": "L9KhaARbhMpo",
        "outputId": "ae4fdaba-5d2d-46a9-f0f5-ba416eef51fc"
      },
      "outputs": [
        {
          "data": {
            "text/html": [
              "<div>\n",
              "<style scoped>\n",
              "    .dataframe tbody tr th:only-of-type {\n",
              "        vertical-align: middle;\n",
              "    }\n",
              "\n",
              "    .dataframe tbody tr th {\n",
              "        vertical-align: top;\n",
              "    }\n",
              "\n",
              "    .dataframe thead th {\n",
              "        text-align: right;\n",
              "    }\n",
              "</style>\n",
              "<table border=\"1\" class=\"dataframe\">\n",
              "  <thead>\n",
              "    <tr style=\"text-align: right;\">\n",
              "      <th></th>\n",
              "      <th>Index</th>\n",
              "      <th>Price</th>\n",
              "      <th>Production_year</th>\n",
              "      <th>Mileage_km</th>\n",
              "      <th>Power_HP</th>\n",
              "      <th>Displacement_cm3</th>\n",
              "      <th>CO2_emissions</th>\n",
              "      <th>Doors_number</th>\n",
              "      <th>4x4 (attached automatically)</th>\n",
              "      <th>4x4 (attached manually)</th>\n",
              "      <th>...</th>\n",
              "      <th>Transmission</th>\n",
              "      <th>Diesel</th>\n",
              "      <th>Electric</th>\n",
              "      <th>Ethanol</th>\n",
              "      <th>Gasoline</th>\n",
              "      <th>Gasoline + CNG</th>\n",
              "      <th>Gasoline + LPG</th>\n",
              "      <th>Hybrid</th>\n",
              "      <th>Hydrogen</th>\n",
              "      <th>Type</th>\n",
              "    </tr>\n",
              "  </thead>\n",
              "  <tbody>\n",
              "    <tr>\n",
              "      <th>0</th>\n",
              "      <td>0.000000</td>\n",
              "      <td>0.164998</td>\n",
              "      <td>1.000000</td>\n",
              "      <td>0.000000</td>\n",
              "      <td>0.110855</td>\n",
              "      <td>0.125000</td>\n",
              "      <td>0.442308</td>\n",
              "      <td>0.50</td>\n",
              "      <td>0</td>\n",
              "      <td>0</td>\n",
              "      <td>...</td>\n",
              "      <td>0</td>\n",
              "      <td>0</td>\n",
              "      <td>0</td>\n",
              "      <td>0</td>\n",
              "      <td>1</td>\n",
              "      <td>0</td>\n",
              "      <td>0</td>\n",
              "      <td>0</td>\n",
              "      <td>0</td>\n",
              "      <td>9</td>\n",
              "    </tr>\n",
              "    <tr>\n",
              "      <th>1</th>\n",
              "      <td>0.000005</td>\n",
              "      <td>0.082788</td>\n",
              "      <td>0.556604</td>\n",
              "      <td>0.147498</td>\n",
              "      <td>0.056967</td>\n",
              "      <td>0.087500</td>\n",
              "      <td>0.442308</td>\n",
              "      <td>0.25</td>\n",
              "      <td>0</td>\n",
              "      <td>0</td>\n",
              "      <td>...</td>\n",
              "      <td>0</td>\n",
              "      <td>0</td>\n",
              "      <td>0</td>\n",
              "      <td>0</td>\n",
              "      <td>1</td>\n",
              "      <td>0</td>\n",
              "      <td>0</td>\n",
              "      <td>0</td>\n",
              "      <td>0</td>\n",
              "      <td>1</td>\n",
              "    </tr>\n",
              "    <tr>\n",
              "      <th>3</th>\n",
              "      <td>0.000014</td>\n",
              "      <td>0.075857</td>\n",
              "      <td>0.915094</td>\n",
              "      <td>0.072498</td>\n",
              "      <td>0.122402</td>\n",
              "      <td>0.121000</td>\n",
              "      <td>0.442308</td>\n",
              "      <td>0.50</td>\n",
              "      <td>0</td>\n",
              "      <td>0</td>\n",
              "      <td>...</td>\n",
              "      <td>0</td>\n",
              "      <td>0</td>\n",
              "      <td>0</td>\n",
              "      <td>0</td>\n",
              "      <td>1</td>\n",
              "      <td>0</td>\n",
              "      <td>0</td>\n",
              "      <td>0</td>\n",
              "      <td>0</td>\n",
              "      <td>9</td>\n",
              "    </tr>\n",
              "    <tr>\n",
              "      <th>5</th>\n",
              "      <td>0.000024</td>\n",
              "      <td>0.120235</td>\n",
              "      <td>0.952830</td>\n",
              "      <td>0.115148</td>\n",
              "      <td>0.137798</td>\n",
              "      <td>0.121000</td>\n",
              "      <td>0.442308</td>\n",
              "      <td>0.50</td>\n",
              "      <td>0</td>\n",
              "      <td>0</td>\n",
              "      <td>...</td>\n",
              "      <td>0</td>\n",
              "      <td>0</td>\n",
              "      <td>0</td>\n",
              "      <td>0</td>\n",
              "      <td>1</td>\n",
              "      <td>0</td>\n",
              "      <td>0</td>\n",
              "      <td>0</td>\n",
              "      <td>0</td>\n",
              "      <td>9</td>\n",
              "    </tr>\n",
              "    <tr>\n",
              "      <th>7</th>\n",
              "      <td>0.000034</td>\n",
              "      <td>0.133616</td>\n",
              "      <td>0.981132</td>\n",
              "      <td>0.049998</td>\n",
              "      <td>0.110855</td>\n",
              "      <td>0.121000</td>\n",
              "      <td>0.442308</td>\n",
              "      <td>0.50</td>\n",
              "      <td>0</td>\n",
              "      <td>0</td>\n",
              "      <td>...</td>\n",
              "      <td>0</td>\n",
              "      <td>0</td>\n",
              "      <td>0</td>\n",
              "      <td>0</td>\n",
              "      <td>1</td>\n",
              "      <td>0</td>\n",
              "      <td>0</td>\n",
              "      <td>0</td>\n",
              "      <td>0</td>\n",
              "      <td>9</td>\n",
              "    </tr>\n",
              "    <tr>\n",
              "      <th>...</th>\n",
              "      <td>...</td>\n",
              "      <td>...</td>\n",
              "      <td>...</td>\n",
              "      <td>...</td>\n",
              "      <td>...</td>\n",
              "      <td>...</td>\n",
              "      <td>...</td>\n",
              "      <td>...</td>\n",
              "      <td>...</td>\n",
              "      <td>...</td>\n",
              "      <td>...</td>\n",
              "      <td>...</td>\n",
              "      <td>...</td>\n",
              "      <td>...</td>\n",
              "      <td>...</td>\n",
              "      <td>...</td>\n",
              "      <td>...</td>\n",
              "      <td>...</td>\n",
              "      <td>...</td>\n",
              "      <td>...</td>\n",
              "      <td>...</td>\n",
              "    </tr>\n",
              "    <tr>\n",
              "      <th>208284</th>\n",
              "      <td>0.999923</td>\n",
              "      <td>0.051020</td>\n",
              "      <td>0.641509</td>\n",
              "      <td>0.474999</td>\n",
              "      <td>0.080062</td>\n",
              "      <td>0.255625</td>\n",
              "      <td>0.442308</td>\n",
              "      <td>0.75</td>\n",
              "      <td>0</td>\n",
              "      <td>0</td>\n",
              "      <td>...</td>\n",
              "      <td>0</td>\n",
              "      <td>0</td>\n",
              "      <td>0</td>\n",
              "      <td>0</td>\n",
              "      <td>1</td>\n",
              "      <td>0</td>\n",
              "      <td>0</td>\n",
              "      <td>0</td>\n",
              "      <td>0</td>\n",
              "      <td>6</td>\n",
              "    </tr>\n",
              "    <tr>\n",
              "      <th>208287</th>\n",
              "      <td>0.999938</td>\n",
              "      <td>0.037351</td>\n",
              "      <td>0.462264</td>\n",
              "      <td>0.117770</td>\n",
              "      <td>0.056967</td>\n",
              "      <td>0.250000</td>\n",
              "      <td>0.442308</td>\n",
              "      <td>1.00</td>\n",
              "      <td>0</td>\n",
              "      <td>0</td>\n",
              "      <td>...</td>\n",
              "      <td>0</td>\n",
              "      <td>0</td>\n",
              "      <td>0</td>\n",
              "      <td>0</td>\n",
              "      <td>1</td>\n",
              "      <td>0</td>\n",
              "      <td>0</td>\n",
              "      <td>0</td>\n",
              "      <td>0</td>\n",
              "      <td>6</td>\n",
              "    </tr>\n",
              "    <tr>\n",
              "      <th>208294</th>\n",
              "      <td>0.999971</td>\n",
              "      <td>0.001925</td>\n",
              "      <td>0.603774</td>\n",
              "      <td>0.264998</td>\n",
              "      <td>0.040801</td>\n",
              "      <td>0.089500</td>\n",
              "      <td>0.442308</td>\n",
              "      <td>1.00</td>\n",
              "      <td>0</td>\n",
              "      <td>0</td>\n",
              "      <td>...</td>\n",
              "      <td>0</td>\n",
              "      <td>0</td>\n",
              "      <td>0</td>\n",
              "      <td>0</td>\n",
              "      <td>1</td>\n",
              "      <td>0</td>\n",
              "      <td>0</td>\n",
              "      <td>0</td>\n",
              "      <td>0</td>\n",
              "      <td>4</td>\n",
              "    </tr>\n",
              "    <tr>\n",
              "      <th>208296</th>\n",
              "      <td>0.999981</td>\n",
              "      <td>0.002118</td>\n",
              "      <td>0.783019</td>\n",
              "      <td>0.149998</td>\n",
              "      <td>0.045420</td>\n",
              "      <td>0.087500</td>\n",
              "      <td>0.442308</td>\n",
              "      <td>0.50</td>\n",
              "      <td>0</td>\n",
              "      <td>0</td>\n",
              "      <td>...</td>\n",
              "      <td>0</td>\n",
              "      <td>0</td>\n",
              "      <td>0</td>\n",
              "      <td>0</td>\n",
              "      <td>1</td>\n",
              "      <td>0</td>\n",
              "      <td>0</td>\n",
              "      <td>0</td>\n",
              "      <td>0</td>\n",
              "      <td>9</td>\n",
              "    </tr>\n",
              "    <tr>\n",
              "      <th>208300</th>\n",
              "      <td>1.000000</td>\n",
              "      <td>0.020023</td>\n",
              "      <td>0.518868</td>\n",
              "      <td>0.158793</td>\n",
              "      <td>0.053118</td>\n",
              "      <td>0.215000</td>\n",
              "      <td>0.442308</td>\n",
              "      <td>0.75</td>\n",
              "      <td>0</td>\n",
              "      <td>0</td>\n",
              "      <td>...</td>\n",
              "      <td>0</td>\n",
              "      <td>0</td>\n",
              "      <td>0</td>\n",
              "      <td>0</td>\n",
              "      <td>1</td>\n",
              "      <td>0</td>\n",
              "      <td>0</td>\n",
              "      <td>0</td>\n",
              "      <td>0</td>\n",
              "      <td>7</td>\n",
              "    </tr>\n",
              "  </tbody>\n",
              "</table>\n",
              "<p>186687 rows × 38 columns</p>\n",
              "</div>"
            ],
            "text/plain": [
              "           Index     Price  Production_year  Mileage_km  Power_HP  \\\n",
              "0       0.000000  0.164998         1.000000    0.000000  0.110855   \n",
              "1       0.000005  0.082788         0.556604    0.147498  0.056967   \n",
              "3       0.000014  0.075857         0.915094    0.072498  0.122402   \n",
              "5       0.000024  0.120235         0.952830    0.115148  0.137798   \n",
              "7       0.000034  0.133616         0.981132    0.049998  0.110855   \n",
              "...          ...       ...              ...         ...       ...   \n",
              "208284  0.999923  0.051020         0.641509    0.474999  0.080062   \n",
              "208287  0.999938  0.037351         0.462264    0.117770  0.056967   \n",
              "208294  0.999971  0.001925         0.603774    0.264998  0.040801   \n",
              "208296  0.999981  0.002118         0.783019    0.149998  0.045420   \n",
              "208300  1.000000  0.020023         0.518868    0.158793  0.053118   \n",
              "\n",
              "        Displacement_cm3  CO2_emissions  Doors_number  \\\n",
              "0               0.125000       0.442308          0.50   \n",
              "1               0.087500       0.442308          0.25   \n",
              "3               0.121000       0.442308          0.50   \n",
              "5               0.121000       0.442308          0.50   \n",
              "7               0.121000       0.442308          0.50   \n",
              "...                  ...            ...           ...   \n",
              "208284          0.255625       0.442308          0.75   \n",
              "208287          0.250000       0.442308          1.00   \n",
              "208294          0.089500       0.442308          1.00   \n",
              "208296          0.087500       0.442308          0.50   \n",
              "208300          0.215000       0.442308          0.75   \n",
              "\n",
              "        4x4 (attached automatically)  4x4 (attached manually)  ...  \\\n",
              "0                                  0                        0  ...   \n",
              "1                                  0                        0  ...   \n",
              "3                                  0                        0  ...   \n",
              "5                                  0                        0  ...   \n",
              "7                                  0                        0  ...   \n",
              "...                              ...                      ...  ...   \n",
              "208284                             0                        0  ...   \n",
              "208287                             0                        0  ...   \n",
              "208294                             0                        0  ...   \n",
              "208296                             0                        0  ...   \n",
              "208300                             0                        0  ...   \n",
              "\n",
              "        Transmission  Diesel  Electric  Ethanol  Gasoline  Gasoline + CNG  \\\n",
              "0                  0       0         0        0         1               0   \n",
              "1                  0       0         0        0         1               0   \n",
              "3                  0       0         0        0         1               0   \n",
              "5                  0       0         0        0         1               0   \n",
              "7                  0       0         0        0         1               0   \n",
              "...              ...     ...       ...      ...       ...             ...   \n",
              "208284             0       0         0        0         1               0   \n",
              "208287             0       0         0        0         1               0   \n",
              "208294             0       0         0        0         1               0   \n",
              "208296             0       0         0        0         1               0   \n",
              "208300             0       0         0        0         1               0   \n",
              "\n",
              "        Gasoline + LPG  Hybrid  Hydrogen  Type  \n",
              "0                    0       0         0     9  \n",
              "1                    0       0         0     1  \n",
              "3                    0       0         0     9  \n",
              "5                    0       0         0     9  \n",
              "7                    0       0         0     9  \n",
              "...                ...     ...       ...   ...  \n",
              "208284               0       0         0     6  \n",
              "208287               0       0         0     6  \n",
              "208294               0       0         0     4  \n",
              "208296               0       0         0     9  \n",
              "208300               0       0         0     7  \n",
              "\n",
              "[186687 rows x 38 columns]"
            ]
          },
          "execution_count": 55,
          "metadata": {},
          "output_type": "execute_result"
        }
      ],
      "source": [
        "data_na_norm = pd.concat((data_na, d1, d3, d4, d5, d6, d2), axis=1)\n",
        "data_na_norm"
      ]
    },
    {
      "cell_type": "markdown",
      "metadata": {
        "id": "ncltEPi11PlQ"
      },
      "source": [
        "Разбиваем наши данные на y и x:"
      ]
    },
    {
      "cell_type": "code",
      "execution_count": 56,
      "metadata": {
        "colab": {
          "base_uri": "https://localhost:8080/"
        },
        "id": "jWZmb-si1PlQ",
        "outputId": "d50d5673-9d86-40e9-be59-440d2185c8bb"
      },
      "outputs": [
        {
          "name": "stdout",
          "output_type": "stream",
          "text": [
            "Index(['Price', 'Production_year', 'Mileage_km', 'Power_HP',\n",
            "       'Displacement_cm3', 'CO2_emissions', 'Doors_number',\n",
            "       '4x4 (attached automatically)', '4x4 (attached manually)',\n",
            "       '4x4 (permanent)', 'Front wheels', 'Rear wheels', 'beige', 'black',\n",
            "       'blue', 'brown', 'burgundy', 'golden', 'gray', 'green', 'other', 'red',\n",
            "       'silver', 'violet', 'white', 'yellow', 'Condition', 'Transmission',\n",
            "       'Diesel', 'Electric', 'Ethanol', 'Gasoline', 'Gasoline + CNG',\n",
            "       'Gasoline + LPG', 'Hybrid', 'Hydrogen'],\n",
            "      dtype='object')\n"
          ]
        }
      ],
      "source": [
        "X = data_na_norm.drop(['Index', 'Type'], axis=1)\n",
        "y = data_na_norm['Type']\n",
        "feature_names = X.columns\n",
        "print(feature_names)"
      ]
    },
    {
      "cell_type": "code",
      "execution_count": 57,
      "metadata": {
        "id": "kjVCBvEX1PlQ"
      },
      "outputs": [],
      "source": [
        "X=X.to_numpy()\n",
        "y=y.to_numpy()"
      ]
    },
    {
      "cell_type": "code",
      "execution_count": 58,
      "metadata": {
        "colab": {
          "base_uri": "https://localhost:8080/"
        },
        "id": "nIiezurv1PlR",
        "outputId": "5a245952-db8b-4ab2-946f-dd24412961ac"
      },
      "outputs": [
        {
          "name": "stdout",
          "output_type": "stream",
          "text": [
            "[[0.16499807 1.         0.         ... 0.         0.         0.        ]\n",
            " [0.08278783 0.55660377 0.14749787 ... 0.         0.         0.        ]\n",
            " [0.07585676 0.91509434 0.07249768 ... 0.         0.         0.        ]\n",
            " ...\n",
            " [0.0019253  0.60377358 0.26499816 ... 0.         0.         0.        ]\n",
            " [0.00211783 0.78301887 0.14999787 ... 0.         0.         0.        ]\n",
            " [0.0200231  0.51886792 0.1587929  ... 0.         0.         0.        ]]\n",
            "\n",
            "[9 1 9 ... 4 9 7]\n",
            "\n",
            "(186687, 36)\n",
            "\n",
            "(186687,)\n",
            "\n"
          ]
        }
      ],
      "source": [
        "print(X, end=\"\\n\\n\")\n",
        "print(y, end=\"\\n\\n\")\n",
        "print(X.shape, end=\"\\n\\n\")\n",
        "print(y.shape, end=\"\\n\\n\")\n",
        "N, d = X.shape"
      ]
    },
    {
      "cell_type": "markdown",
      "metadata": {
        "id": "qeEUscvT1PlR"
      },
      "source": [
        "Разделим наш dataset на обучающую и тестовую выборку:"
      ]
    },
    {
      "cell_type": "code",
      "execution_count": 59,
      "metadata": {
        "colab": {
          "base_uri": "https://localhost:8080/"
        },
        "id": "Har7BjoP1PlR",
        "outputId": "f3be03db-7110-4749-aa2d-21048f72e48a"
      },
      "outputs": [
        {
          "name": "stderr",
          "output_type": "stream",
          "text": [
            "'c:\\Program' is not recognized as an internal or external command,\n",
            "operable program or batch file.\n"
          ]
        }
      ],
      "source": [
        "import sys\n",
        "!{sys.executable} -m pip install scikit-learn"
      ]
    },
    {
      "cell_type": "code",
      "execution_count": 60,
      "metadata": {
        "colab": {
          "base_uri": "https://localhost:8080/"
        },
        "id": "oUyoWN0o1PlR",
        "outputId": "5789a25a-c129-4857-9158-27710269fc76"
      },
      "outputs": [
        {
          "data": {
            "text/plain": [
              "(140015, 46672)"
            ]
          },
          "execution_count": 60,
          "metadata": {},
          "output_type": "execute_result"
        }
      ],
      "source": [
        "from sklearn.model_selection import train_test_split\n",
        "X_train, X_test, y_train, y_test = train_test_split(X, y, test_size = 0.25, random_state = 100)\n",
        "N_train, _ = X_train.shape \n",
        "N_test, _ = X_test.shape \n",
        "\n",
        "N_train, N_test"
      ]
    },
    {
      "cell_type": "markdown",
      "metadata": {
        "id": "p9BlAprN1PlR"
      },
      "source": [
        "Оказалось, что наши данные содержат незначительное количество полей типа nan. Заменим их на данные из других строк таблицы (таких значения всего 4, на общую картину это никак не повлияет):"
      ]
    },
    {
      "cell_type": "code",
      "execution_count": 61,
      "metadata": {
        "colab": {
          "base_uri": "https://localhost:8080/"
        },
        "id": "ItISswMp1PlR",
        "outputId": "8cb60be1-6548-44b9-9be9-82565da10eeb"
      },
      "outputs": [
        {
          "name": "stdout",
          "output_type": "stream",
          "text": [
            "[]\n",
            "[]\n",
            "(140015, 36)\n",
            "(140015,)\n",
            "(46672, 36)\n",
            "(46672,)\n"
          ]
        }
      ],
      "source": [
        "print(np.argwhere(np.isnan(X_train)))\n",
        "for i, j in np.argwhere(np.isnan(X_train)):\n",
        "    X_train[i][j] = X_train[0][j]\n",
        "\n",
        "print(np.argwhere(np.isnan(X_test)))\n",
        "for i, j in np.argwhere(np.isnan(X_test)):\n",
        "    X_test[i][j] = X_test[0][j]\n",
        "\n",
        "print(X_train.shape)\n",
        "print(y_train.shape)\n",
        "print(X_test.shape)\n",
        "print(y_test.shape)"
      ]
    },
    {
      "cell_type": "markdown",
      "metadata": {
        "id": "LlgQ5CP51PlR"
      },
      "source": [
        "Интерпретируем все значения `y` как целые числа:"
      ]
    },
    {
      "cell_type": "code",
      "execution_count": 62,
      "metadata": {
        "id": "RChz7SXM1PlR"
      },
      "outputs": [],
      "source": [
        "y_test = y_test.astype(\"int\")\n",
        "y_train = y_train.astype(\"int\")"
      ]
    },
    {
      "cell_type": "markdown",
      "metadata": {
        "id": "FUskPG_n1PlR"
      },
      "source": [
        "## Обучение"
      ]
    },
    {
      "cell_type": "markdown",
      "metadata": {
        "id": "Y6FX_kp41PlS"
      },
      "source": [
        "Попробуем обучить нашу модель с помощью метода `kNN`:"
      ]
    },
    {
      "cell_type": "code",
      "execution_count": 63,
      "metadata": {
        "colab": {
          "base_uri": "https://localhost:8080/"
        },
        "id": "0o_ZOeYF1PlS",
        "outputId": "6e48a023-8bb6-4f81-8af9-529cc25c71c2"
      },
      "outputs": [
        {
          "data": {
            "text/html": [
              "<style>#sk-container-id-1 {color: black;background-color: white;}#sk-container-id-1 pre{padding: 0;}#sk-container-id-1 div.sk-toggleable {background-color: white;}#sk-container-id-1 label.sk-toggleable__label {cursor: pointer;display: block;width: 100%;margin-bottom: 0;padding: 0.3em;box-sizing: border-box;text-align: center;}#sk-container-id-1 label.sk-toggleable__label-arrow:before {content: \"▸\";float: left;margin-right: 0.25em;color: #696969;}#sk-container-id-1 label.sk-toggleable__label-arrow:hover:before {color: black;}#sk-container-id-1 div.sk-estimator:hover label.sk-toggleable__label-arrow:before {color: black;}#sk-container-id-1 div.sk-toggleable__content {max-height: 0;max-width: 0;overflow: hidden;text-align: left;background-color: #f0f8ff;}#sk-container-id-1 div.sk-toggleable__content pre {margin: 0.2em;color: black;border-radius: 0.25em;background-color: #f0f8ff;}#sk-container-id-1 input.sk-toggleable__control:checked~div.sk-toggleable__content {max-height: 200px;max-width: 100%;overflow: auto;}#sk-container-id-1 input.sk-toggleable__control:checked~label.sk-toggleable__label-arrow:before {content: \"▾\";}#sk-container-id-1 div.sk-estimator input.sk-toggleable__control:checked~label.sk-toggleable__label {background-color: #d4ebff;}#sk-container-id-1 div.sk-label input.sk-toggleable__control:checked~label.sk-toggleable__label {background-color: #d4ebff;}#sk-container-id-1 input.sk-hidden--visually {border: 0;clip: rect(1px 1px 1px 1px);clip: rect(1px, 1px, 1px, 1px);height: 1px;margin: -1px;overflow: hidden;padding: 0;position: absolute;width: 1px;}#sk-container-id-1 div.sk-estimator {font-family: monospace;background-color: #f0f8ff;border: 1px dotted black;border-radius: 0.25em;box-sizing: border-box;margin-bottom: 0.5em;}#sk-container-id-1 div.sk-estimator:hover {background-color: #d4ebff;}#sk-container-id-1 div.sk-parallel-item::after {content: \"\";width: 100%;border-bottom: 1px solid gray;flex-grow: 1;}#sk-container-id-1 div.sk-label:hover label.sk-toggleable__label {background-color: #d4ebff;}#sk-container-id-1 div.sk-serial::before {content: \"\";position: absolute;border-left: 1px solid gray;box-sizing: border-box;top: 0;bottom: 0;left: 50%;z-index: 0;}#sk-container-id-1 div.sk-serial {display: flex;flex-direction: column;align-items: center;background-color: white;padding-right: 0.2em;padding-left: 0.2em;position: relative;}#sk-container-id-1 div.sk-item {position: relative;z-index: 1;}#sk-container-id-1 div.sk-parallel {display: flex;align-items: stretch;justify-content: center;background-color: white;position: relative;}#sk-container-id-1 div.sk-item::before, #sk-container-id-1 div.sk-parallel-item::before {content: \"\";position: absolute;border-left: 1px solid gray;box-sizing: border-box;top: 0;bottom: 0;left: 50%;z-index: -1;}#sk-container-id-1 div.sk-parallel-item {display: flex;flex-direction: column;z-index: 1;position: relative;background-color: white;}#sk-container-id-1 div.sk-parallel-item:first-child::after {align-self: flex-end;width: 50%;}#sk-container-id-1 div.sk-parallel-item:last-child::after {align-self: flex-start;width: 50%;}#sk-container-id-1 div.sk-parallel-item:only-child::after {width: 0;}#sk-container-id-1 div.sk-dashed-wrapped {border: 1px dashed gray;margin: 0 0.4em 0.5em 0.4em;box-sizing: border-box;padding-bottom: 0.4em;background-color: white;}#sk-container-id-1 div.sk-label label {font-family: monospace;font-weight: bold;display: inline-block;line-height: 1.2em;}#sk-container-id-1 div.sk-label-container {text-align: center;}#sk-container-id-1 div.sk-container {/* jupyter's `normalize.less` sets `[hidden] { display: none; }` but bootstrap.min.css set `[hidden] { display: none !important; }` so we also need the `!important` here to be able to override the default hidden behavior on the sphinx rendered scikit-learn.org. See: https://github.com/scikit-learn/scikit-learn/issues/21755 */display: inline-block !important;position: relative;}#sk-container-id-1 div.sk-text-repr-fallback {display: none;}</style><div id=\"sk-container-id-1\" class=\"sk-top-container\"><div class=\"sk-text-repr-fallback\"><pre>KNeighborsClassifier(n_neighbors=10)</pre><b>In a Jupyter environment, please rerun this cell to show the HTML representation or trust the notebook. <br />On GitHub, the HTML representation is unable to render, please try loading this page with nbviewer.org.</b></div><div class=\"sk-container\" hidden><div class=\"sk-item\"><div class=\"sk-estimator sk-toggleable\"><input class=\"sk-toggleable__control sk-hidden--visually\" id=\"sk-estimator-id-1\" type=\"checkbox\" checked><label for=\"sk-estimator-id-1\" class=\"sk-toggleable__label sk-toggleable__label-arrow\">KNeighborsClassifier</label><div class=\"sk-toggleable__content\"><pre>KNeighborsClassifier(n_neighbors=10)</pre></div></div></div></div></div>"
            ],
            "text/plain": [
              "KNeighborsClassifier(n_neighbors=10)"
            ]
          },
          "execution_count": 63,
          "metadata": {},
          "output_type": "execute_result"
        }
      ],
      "source": [
        "from sklearn.neighbors import KNeighborsClassifier\n",
        "\n",
        "knn = KNeighborsClassifier(n_neighbors = 10)\n",
        "knn.fit(X_train, y_train)"
      ]
    },
    {
      "cell_type": "code",
      "execution_count": 64,
      "metadata": {
        "id": "SGOarxFt1PlS"
      },
      "outputs": [],
      "source": [
        "y_test_predict = knn.predict(X_test)\n",
        "y_train_predict = knn.predict(X_train)\n",
        "err_test  = np.mean(y_test  != y_test_predict)\n",
        "err_train  = np.mean(y_train != y_train_predict)"
      ]
    },
    {
      "cell_type": "code",
      "execution_count": 65,
      "metadata": {
        "id": "IFse1hQ71PlS"
      },
      "outputs": [
        {
          "name": "stdout",
          "output_type": "stream",
          "text": [
            "0.3737813805663679\n",
            "0.4478059650325677\n"
          ]
        }
      ],
      "source": [
        "print(f\"{err_train}\")\n",
        "print(f\"{err_test}\")"
      ]
    },
    {
      "cell_type": "code",
      "execution_count": 66,
      "metadata": {
        "id": "C-cz4Pb01PlS"
      },
      "outputs": [
        {
          "name": "stdout",
          "output_type": "stream",
          "text": [
            "[[ 2273   171   244   252   319   530   187    17    11]\n",
            " [   46 11682    67  2150   484   252   560   313   285]\n",
            " [  589    98   662    67    20    74     4     5    13]\n",
            " [  112  3080    56 11505  1847  1010  3351   934   113]\n",
            " [   42   403     2  1672 22952   704  1937   598    13]\n",
            " [  128   225    28  1210  1988 14904  3083   616     2]\n",
            " [   33   806     7  3232  3280  2183 16637  1511    15]\n",
            " [   17   700     9  2251  1188   944  3798  5876     6]\n",
            " [   56  1845    41   293    64    72    31    41  1189]]\n",
            "\n",
            "[[ 695   52  121   85  125  198   49    5    2]\n",
            " [  17 3496   29  941  192   96  227  124  157]\n",
            " [ 226   45  192   25    9   14    3    3    7]\n",
            " [  47 1196   15 3026  759  421 1372  406   46]\n",
            " [  13  167    2  679 7143  299  888  251    2]\n",
            " [  56   91    8  450  734 4680 1191  222    1]\n",
            " [  11  302    4 1341 1219  853 4763  663    7]\n",
            " [   9  275    3  899  444  355 1488 1439    0]\n",
            " [  25  745   20   91   25   34   10    9  338]]\n",
            "\n"
          ]
        }
      ],
      "source": [
        "from sklearn.metrics import confusion_matrix\n",
        "\n",
        "print(confusion_matrix(y_train, y_train_predict), end=\"\\n\\n\")\n",
        "print(confusion_matrix(y_test, y_test_predict), end=\"\\n\\n\")"
      ]
    },
    {
      "cell_type": "markdown",
      "metadata": {
        "id": "Atb-oZNG1PlS"
      },
      "source": [
        "Улучшить результат не получилось."
      ]
    },
    {
      "cell_type": "code",
      "execution_count": 67,
      "metadata": {
        "id": "eSvNrzhq1PlS"
      },
      "outputs": [],
      "source": [
        "#from sklearn.model_selection import GridSearchCV\n",
        "#nnb = [1, 3, 5, 10, 15, 20, 25, 35, 45, 55]\n",
        "#knn = KNeighborsClassifier()\n",
        "#grid = GridSearchCV(knn, param_grid = {'n_neighbors': nnb}, cv=10)\n",
        "#grid.fit(X_train, y_train)\n",
        "\n",
        "#best_cv_err = 1 - grid.best_score_\n",
        "#best_n_neighbors = grid.best_estimator_.n_neighbors\n",
        "#print(best_cv_err, best_n_neighbors)"
      ]
    },
    {
      "cell_type": "markdown",
      "metadata": {
        "id": "yujU0mtZ1PlT"
      },
      "source": [
        "## Другие алгоритмы обучения:"
      ]
    },
    {
      "cell_type": "markdown",
      "metadata": {
        "id": "mUWpeQjr1PlT"
      },
      "source": [
        "### SVC:"
      ]
    },
    {
      "cell_type": "code",
      "execution_count": 69,
      "metadata": {
        "id": "s-hvBKG-1PlT"
      },
      "outputs": [
        {
          "name": "stdout",
          "output_type": "stream",
          "text": [
            "0.5027389922508303\n",
            "0.5044137812821392\n"
          ]
        }
      ],
      "source": [
        "from sklearn.svm import SVC\n",
        "svc = SVC(gamma='auto')\n",
        "svc.fit(X_train, y_train)\n",
        "\n",
        "err_train = np.mean(y_train != svc.predict(X_train))\n",
        "err_test  = np.mean(y_test  != svc.predict(X_test))\n",
        "\n",
        "print(f\"{err_train}\")\n",
        "print(f\"{err_test}\")"
      ]
    },
    {
      "cell_type": "markdown",
      "metadata": {
        "id": "jTKYJKlU1PlT"
      },
      "source": [
        "### Random Forest:"
      ]
    },
    {
      "cell_type": "code",
      "execution_count": 70,
      "metadata": {
        "id": "41FtIVOf1PlT"
      },
      "outputs": [
        {
          "name": "stdout",
          "output_type": "stream",
          "text": [
            "0.0003713887797735957\n",
            "0.3059650325677066\n"
          ]
        }
      ],
      "source": [
        "from sklearn import ensemble\n",
        "rf = ensemble.RandomForestClassifier(n_estimators = 1000)\n",
        "rf.fit(X_train, y_train)\n",
        "\n",
        "err_train = np.mean(y_train != rf.predict(X_train))\n",
        "err_test  = np.mean(y_test  != rf.predict(X_test))\n",
        "\n",
        "print(f\"{err_train}\")\n",
        "print(f\"{err_test}\")"
      ]
    },
    {
      "cell_type": "markdown",
      "metadata": {
        "id": "gtkXFYoE1PlT"
      },
      "source": [
        "### Extremely Randomized Trees:"
      ]
    },
    {
      "cell_type": "code",
      "execution_count": 71,
      "metadata": {
        "id": "T3JSYblh1PlT"
      },
      "outputs": [
        {
          "name": "stdout",
          "output_type": "stream",
          "text": [
            "0.0003713887797735957\n",
            "0.349010113129928\n"
          ]
        }
      ],
      "source": [
        "ert = ensemble.ExtraTreesClassifier(n_estimators = 100).fit(X_train, y_train)\n",
        "\n",
        "err_train = np.mean(y_train != ert.predict(X_train))\n",
        "err_test  = np.mean(y_test  != ert.predict(X_test))\n",
        "\n",
        "print(f\"{err_train}\")\n",
        "print(f\"{err_test}\")"
      ]
    },
    {
      "cell_type": "markdown",
      "metadata": {
        "id": "XqLJRM7l1PlT"
      },
      "source": [
        "### AdaBoost (работает очень медленно):"
      ]
    },
    {
      "cell_type": "code",
      "execution_count": 72,
      "metadata": {
        "id": "DC5SOJGr1PlT"
      },
      "outputs": [
        {
          "name": "stdout",
          "output_type": "stream",
          "text": [
            "0.5971788736921044\n",
            "0.59457490572506\n"
          ]
        }
      ],
      "source": [
        "ada = ensemble.AdaBoostClassifier(n_estimators = 1000)\n",
        "ada.fit(X_train, y_train)\n",
        "\n",
        "err_train = np.mean(y_train != ada.predict(X_train))\n",
        "err_test = np.mean(y_test != ada.predict(X_test))\n",
        "\n",
        "print(f\"{err_train}\")\n",
        "print(f\"{err_test}\")"
      ]
    },
    {
      "cell_type": "markdown",
      "metadata": {
        "id": "4IsoEY-d1PlU"
      },
      "source": [
        "### GBT (работает очень, очень медленно):"
      ]
    },
    {
      "cell_type": "code",
      "execution_count": 73,
      "metadata": {
        "id": "4wCIsKaC1PlU"
      },
      "outputs": [
        {
          "name": "stdout",
          "output_type": "stream",
          "text": [
            "0.3027818448023426\n",
            "0.3307122043195063\n"
          ]
        }
      ],
      "source": [
        "gbt = ensemble.GradientBoostingClassifier(n_estimators = 1000)\n",
        "gbt.fit(X_train, y_train)\n",
        "\n",
        "err_train = np.mean(y_train != gbt.predict(X_train))\n",
        "err_test = np.mean(y_test != gbt.predict(X_test))\n",
        "\n",
        "print(f\"{err_train}\")\n",
        "print(f\"{err_test}\")"
      ]
    },
    {
      "cell_type": "markdown",
      "metadata": {
        "id": "cU8MSvKL1PlU"
      },
      "source": [
        "Наилуший результат показывает Random Forest и GBT. Ошибка на тестовой выборке составляет ~ 0.305. При этом, на обучение алгоритмом Random Forest затрачивается намного меньше вермени.\n",
        "\n",
        "Во всех случаях ошибка на тестовой выборке оказывалась больше, чем на тренировочной, что может свидетельствовать о некотором переобучении модели.\n",
        "\n",
        "Подводя итог, можно сделать вывод, что \"предобработка\" данных была выполнена успешно и задача классификации решена.\n"
      ]
    }
  ],
  "metadata": {
    "colab": {
      "collapsed_sections": [],
      "provenance": []
    },
    "kernelspec": {
      "display_name": "Python 3.10.6 64-bit",
      "language": "python",
      "name": "python3"
    },
    "language_info": {
      "codemirror_mode": {
        "name": "ipython",
        "version": 3
      },
      "file_extension": ".py",
      "mimetype": "text/x-python",
      "name": "python",
      "nbconvert_exporter": "python",
      "pygments_lexer": "ipython3",
      "version": "3.10.6"
    },
    "orig_nbformat": 4,
    "vscode": {
      "interpreter": {
        "hash": "26de051ba29f2982a8de78e945f0abaf191376122a1563185a90213a26c5da77"
      }
    }
  },
  "nbformat": 4,
  "nbformat_minor": 0
}
